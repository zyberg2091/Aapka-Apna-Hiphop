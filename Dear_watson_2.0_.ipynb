{
  "nbformat": 4,
  "nbformat_minor": 0,
  "metadata": {
    "accelerator": "TPU",
    "colab": {
      "name": " Dear watson 2.0",
      "provenance": [],
      "collapsed_sections": [],
      "toc_visible": true,
      "mount_file_id": "15MCIYdP_igwqnuZbW9aE6zg3eJZERCRj",
      "authorship_tag": "ABX9TyPIiH3y6SRvvb4Q7iANw+W+",
      "include_colab_link": true
    },
    "kernelspec": {
      "display_name": "Python 3",
      "name": "python3"
    },
    "widgets": {
      "application/vnd.jupyter.widget-state+json": {
        "fc1fd9fade1c4f6fa8bc58ed41343223": {
          "model_module": "@jupyter-widgets/controls",
          "model_name": "HBoxModel",
          "state": {
            "_view_name": "HBoxView",
            "_dom_classes": [],
            "_model_name": "HBoxModel",
            "_view_module": "@jupyter-widgets/controls",
            "_model_module_version": "1.5.0",
            "_view_count": null,
            "_view_module_version": "1.5.0",
            "box_style": "",
            "layout": "IPY_MODEL_498b2cb9360e48cda04852c8d49e79a7",
            "_model_module": "@jupyter-widgets/controls",
            "children": [
              "IPY_MODEL_9daf0e78833542a79e6e54ef57c0929c",
              "IPY_MODEL_945094fcbdab46459558fd7741be2efd"
            ]
          }
        },
        "498b2cb9360e48cda04852c8d49e79a7": {
          "model_module": "@jupyter-widgets/base",
          "model_name": "LayoutModel",
          "state": {
            "_view_name": "LayoutView",
            "grid_template_rows": null,
            "right": null,
            "justify_content": null,
            "_view_module": "@jupyter-widgets/base",
            "overflow": null,
            "_model_module_version": "1.2.0",
            "_view_count": null,
            "flex_flow": null,
            "width": null,
            "min_width": null,
            "border": null,
            "align_items": null,
            "bottom": null,
            "_model_module": "@jupyter-widgets/base",
            "top": null,
            "grid_column": null,
            "overflow_y": null,
            "overflow_x": null,
            "grid_auto_flow": null,
            "grid_area": null,
            "grid_template_columns": null,
            "flex": null,
            "_model_name": "LayoutModel",
            "justify_items": null,
            "grid_row": null,
            "max_height": null,
            "align_content": null,
            "visibility": null,
            "align_self": null,
            "height": null,
            "min_height": null,
            "padding": null,
            "grid_auto_rows": null,
            "grid_gap": null,
            "max_width": null,
            "order": null,
            "_view_module_version": "1.2.0",
            "grid_template_areas": null,
            "object_position": null,
            "object_fit": null,
            "grid_auto_columns": null,
            "margin": null,
            "display": null,
            "left": null
          }
        },
        "9daf0e78833542a79e6e54ef57c0929c": {
          "model_module": "@jupyter-widgets/controls",
          "model_name": "FloatProgressModel",
          "state": {
            "_view_name": "ProgressView",
            "style": "IPY_MODEL_b58d497ab0eb482e9ae79d3b5a4bca8c",
            "_dom_classes": [],
            "description": "Downloading: 100%",
            "_model_name": "FloatProgressModel",
            "bar_style": "success",
            "max": 995526,
            "_view_module": "@jupyter-widgets/controls",
            "_model_module_version": "1.5.0",
            "value": 995526,
            "_view_count": null,
            "_view_module_version": "1.5.0",
            "orientation": "horizontal",
            "min": 0,
            "description_tooltip": null,
            "_model_module": "@jupyter-widgets/controls",
            "layout": "IPY_MODEL_8a7164755db94051adad73bdaf63ea40"
          }
        },
        "945094fcbdab46459558fd7741be2efd": {
          "model_module": "@jupyter-widgets/controls",
          "model_name": "HTMLModel",
          "state": {
            "_view_name": "HTMLView",
            "style": "IPY_MODEL_6280c3a803d54028a1aee9adb0da65d5",
            "_dom_classes": [],
            "description": "",
            "_model_name": "HTMLModel",
            "placeholder": "​",
            "_view_module": "@jupyter-widgets/controls",
            "_model_module_version": "1.5.0",
            "value": " 996k/996k [00:01&lt;00:00, 610kB/s]",
            "_view_count": null,
            "_view_module_version": "1.5.0",
            "description_tooltip": null,
            "_model_module": "@jupyter-widgets/controls",
            "layout": "IPY_MODEL_9e03d32f56e24df1ac05257e498b1745"
          }
        },
        "b58d497ab0eb482e9ae79d3b5a4bca8c": {
          "model_module": "@jupyter-widgets/controls",
          "model_name": "ProgressStyleModel",
          "state": {
            "_view_name": "StyleView",
            "_model_name": "ProgressStyleModel",
            "description_width": "initial",
            "_view_module": "@jupyter-widgets/base",
            "_model_module_version": "1.5.0",
            "_view_count": null,
            "_view_module_version": "1.2.0",
            "bar_color": null,
            "_model_module": "@jupyter-widgets/controls"
          }
        },
        "8a7164755db94051adad73bdaf63ea40": {
          "model_module": "@jupyter-widgets/base",
          "model_name": "LayoutModel",
          "state": {
            "_view_name": "LayoutView",
            "grid_template_rows": null,
            "right": null,
            "justify_content": null,
            "_view_module": "@jupyter-widgets/base",
            "overflow": null,
            "_model_module_version": "1.2.0",
            "_view_count": null,
            "flex_flow": null,
            "width": null,
            "min_width": null,
            "border": null,
            "align_items": null,
            "bottom": null,
            "_model_module": "@jupyter-widgets/base",
            "top": null,
            "grid_column": null,
            "overflow_y": null,
            "overflow_x": null,
            "grid_auto_flow": null,
            "grid_area": null,
            "grid_template_columns": null,
            "flex": null,
            "_model_name": "LayoutModel",
            "justify_items": null,
            "grid_row": null,
            "max_height": null,
            "align_content": null,
            "visibility": null,
            "align_self": null,
            "height": null,
            "min_height": null,
            "padding": null,
            "grid_auto_rows": null,
            "grid_gap": null,
            "max_width": null,
            "order": null,
            "_view_module_version": "1.2.0",
            "grid_template_areas": null,
            "object_position": null,
            "object_fit": null,
            "grid_auto_columns": null,
            "margin": null,
            "display": null,
            "left": null
          }
        },
        "6280c3a803d54028a1aee9adb0da65d5": {
          "model_module": "@jupyter-widgets/controls",
          "model_name": "DescriptionStyleModel",
          "state": {
            "_view_name": "StyleView",
            "_model_name": "DescriptionStyleModel",
            "description_width": "",
            "_view_module": "@jupyter-widgets/base",
            "_model_module_version": "1.5.0",
            "_view_count": null,
            "_view_module_version": "1.2.0",
            "_model_module": "@jupyter-widgets/controls"
          }
        },
        "9e03d32f56e24df1ac05257e498b1745": {
          "model_module": "@jupyter-widgets/base",
          "model_name": "LayoutModel",
          "state": {
            "_view_name": "LayoutView",
            "grid_template_rows": null,
            "right": null,
            "justify_content": null,
            "_view_module": "@jupyter-widgets/base",
            "overflow": null,
            "_model_module_version": "1.2.0",
            "_view_count": null,
            "flex_flow": null,
            "width": null,
            "min_width": null,
            "border": null,
            "align_items": null,
            "bottom": null,
            "_model_module": "@jupyter-widgets/base",
            "top": null,
            "grid_column": null,
            "overflow_y": null,
            "overflow_x": null,
            "grid_auto_flow": null,
            "grid_area": null,
            "grid_template_columns": null,
            "flex": null,
            "_model_name": "LayoutModel",
            "justify_items": null,
            "grid_row": null,
            "max_height": null,
            "align_content": null,
            "visibility": null,
            "align_self": null,
            "height": null,
            "min_height": null,
            "padding": null,
            "grid_auto_rows": null,
            "grid_gap": null,
            "max_width": null,
            "order": null,
            "_view_module_version": "1.2.0",
            "grid_template_areas": null,
            "object_position": null,
            "object_fit": null,
            "grid_auto_columns": null,
            "margin": null,
            "display": null,
            "left": null
          }
        },
        "08c94ceb5d314a5b9aa1490a8edda313": {
          "model_module": "@jupyter-widgets/controls",
          "model_name": "HBoxModel",
          "state": {
            "_view_name": "HBoxView",
            "_dom_classes": [],
            "_model_name": "HBoxModel",
            "_view_module": "@jupyter-widgets/controls",
            "_model_module_version": "1.5.0",
            "_view_count": null,
            "_view_module_version": "1.5.0",
            "box_style": "",
            "layout": "IPY_MODEL_23502c8720be456f9390c4c0a89d78ef",
            "_model_module": "@jupyter-widgets/controls",
            "children": [
              "IPY_MODEL_33b7531b23b54f0189d7d9727354c302",
              "IPY_MODEL_17cc6437b71c4296b1dc3345e48640b3"
            ]
          }
        },
        "23502c8720be456f9390c4c0a89d78ef": {
          "model_module": "@jupyter-widgets/base",
          "model_name": "LayoutModel",
          "state": {
            "_view_name": "LayoutView",
            "grid_template_rows": null,
            "right": null,
            "justify_content": null,
            "_view_module": "@jupyter-widgets/base",
            "overflow": null,
            "_model_module_version": "1.2.0",
            "_view_count": null,
            "flex_flow": null,
            "width": null,
            "min_width": null,
            "border": null,
            "align_items": null,
            "bottom": null,
            "_model_module": "@jupyter-widgets/base",
            "top": null,
            "grid_column": null,
            "overflow_y": null,
            "overflow_x": null,
            "grid_auto_flow": null,
            "grid_area": null,
            "grid_template_columns": null,
            "flex": null,
            "_model_name": "LayoutModel",
            "justify_items": null,
            "grid_row": null,
            "max_height": null,
            "align_content": null,
            "visibility": null,
            "align_self": null,
            "height": null,
            "min_height": null,
            "padding": null,
            "grid_auto_rows": null,
            "grid_gap": null,
            "max_width": null,
            "order": null,
            "_view_module_version": "1.2.0",
            "grid_template_areas": null,
            "object_position": null,
            "object_fit": null,
            "grid_auto_columns": null,
            "margin": null,
            "display": null,
            "left": null
          }
        },
        "33b7531b23b54f0189d7d9727354c302": {
          "model_module": "@jupyter-widgets/controls",
          "model_name": "FloatProgressModel",
          "state": {
            "_view_name": "ProgressView",
            "style": "IPY_MODEL_2c333d2a3e9d489d99b510622b944353",
            "_dom_classes": [],
            "description": "Downloading: 100%",
            "_model_name": "FloatProgressModel",
            "bar_style": "success",
            "max": 1961828,
            "_view_module": "@jupyter-widgets/controls",
            "_model_module_version": "1.5.0",
            "value": 1961828,
            "_view_count": null,
            "_view_module_version": "1.5.0",
            "orientation": "horizontal",
            "min": 0,
            "description_tooltip": null,
            "_model_module": "@jupyter-widgets/controls",
            "layout": "IPY_MODEL_fd2db9d609b542938b1a7d8b30bc5607"
          }
        },
        "17cc6437b71c4296b1dc3345e48640b3": {
          "model_module": "@jupyter-widgets/controls",
          "model_name": "HTMLModel",
          "state": {
            "_view_name": "HTMLView",
            "style": "IPY_MODEL_dc7db7ec30c64f2bb965cbedb611ca51",
            "_dom_classes": [],
            "description": "",
            "_model_name": "HTMLModel",
            "placeholder": "​",
            "_view_module": "@jupyter-widgets/controls",
            "_model_module_version": "1.5.0",
            "value": " 1.96M/1.96M [00:00&lt;00:00, 3.07MB/s]",
            "_view_count": null,
            "_view_module_version": "1.5.0",
            "description_tooltip": null,
            "_model_module": "@jupyter-widgets/controls",
            "layout": "IPY_MODEL_1115795b35d8427589bb9939c56f98df"
          }
        },
        "2c333d2a3e9d489d99b510622b944353": {
          "model_module": "@jupyter-widgets/controls",
          "model_name": "ProgressStyleModel",
          "state": {
            "_view_name": "StyleView",
            "_model_name": "ProgressStyleModel",
            "description_width": "initial",
            "_view_module": "@jupyter-widgets/base",
            "_model_module_version": "1.5.0",
            "_view_count": null,
            "_view_module_version": "1.2.0",
            "bar_color": null,
            "_model_module": "@jupyter-widgets/controls"
          }
        },
        "fd2db9d609b542938b1a7d8b30bc5607": {
          "model_module": "@jupyter-widgets/base",
          "model_name": "LayoutModel",
          "state": {
            "_view_name": "LayoutView",
            "grid_template_rows": null,
            "right": null,
            "justify_content": null,
            "_view_module": "@jupyter-widgets/base",
            "overflow": null,
            "_model_module_version": "1.2.0",
            "_view_count": null,
            "flex_flow": null,
            "width": null,
            "min_width": null,
            "border": null,
            "align_items": null,
            "bottom": null,
            "_model_module": "@jupyter-widgets/base",
            "top": null,
            "grid_column": null,
            "overflow_y": null,
            "overflow_x": null,
            "grid_auto_flow": null,
            "grid_area": null,
            "grid_template_columns": null,
            "flex": null,
            "_model_name": "LayoutModel",
            "justify_items": null,
            "grid_row": null,
            "max_height": null,
            "align_content": null,
            "visibility": null,
            "align_self": null,
            "height": null,
            "min_height": null,
            "padding": null,
            "grid_auto_rows": null,
            "grid_gap": null,
            "max_width": null,
            "order": null,
            "_view_module_version": "1.2.0",
            "grid_template_areas": null,
            "object_position": null,
            "object_fit": null,
            "grid_auto_columns": null,
            "margin": null,
            "display": null,
            "left": null
          }
        },
        "dc7db7ec30c64f2bb965cbedb611ca51": {
          "model_module": "@jupyter-widgets/controls",
          "model_name": "DescriptionStyleModel",
          "state": {
            "_view_name": "StyleView",
            "_model_name": "DescriptionStyleModel",
            "description_width": "",
            "_view_module": "@jupyter-widgets/base",
            "_model_module_version": "1.5.0",
            "_view_count": null,
            "_view_module_version": "1.2.0",
            "_model_module": "@jupyter-widgets/controls"
          }
        },
        "1115795b35d8427589bb9939c56f98df": {
          "model_module": "@jupyter-widgets/base",
          "model_name": "LayoutModel",
          "state": {
            "_view_name": "LayoutView",
            "grid_template_rows": null,
            "right": null,
            "justify_content": null,
            "_view_module": "@jupyter-widgets/base",
            "overflow": null,
            "_model_module_version": "1.2.0",
            "_view_count": null,
            "flex_flow": null,
            "width": null,
            "min_width": null,
            "border": null,
            "align_items": null,
            "bottom": null,
            "_model_module": "@jupyter-widgets/base",
            "top": null,
            "grid_column": null,
            "overflow_y": null,
            "overflow_x": null,
            "grid_auto_flow": null,
            "grid_area": null,
            "grid_template_columns": null,
            "flex": null,
            "_model_name": "LayoutModel",
            "justify_items": null,
            "grid_row": null,
            "max_height": null,
            "align_content": null,
            "visibility": null,
            "align_self": null,
            "height": null,
            "min_height": null,
            "padding": null,
            "grid_auto_rows": null,
            "grid_gap": null,
            "max_width": null,
            "order": null,
            "_view_module_version": "1.2.0",
            "grid_template_areas": null,
            "object_position": null,
            "object_fit": null,
            "grid_auto_columns": null,
            "margin": null,
            "display": null,
            "left": null
          }
        },
        "ecff11e5ab1845faa325d84df90c821b": {
          "model_module": "@jupyter-widgets/controls",
          "model_name": "HBoxModel",
          "state": {
            "_view_name": "HBoxView",
            "_dom_classes": [],
            "_model_name": "HBoxModel",
            "_view_module": "@jupyter-widgets/controls",
            "_model_module_version": "1.5.0",
            "_view_count": null,
            "_view_module_version": "1.5.0",
            "box_style": "",
            "layout": "IPY_MODEL_bfd55533cf174ec899049bb235179087",
            "_model_module": "@jupyter-widgets/controls",
            "children": [
              "IPY_MODEL_783f178280aa4f429d565495f0843a68",
              "IPY_MODEL_dfa8c34bdeb64b57b8a55be688323014"
            ]
          }
        },
        "bfd55533cf174ec899049bb235179087": {
          "model_module": "@jupyter-widgets/base",
          "model_name": "LayoutModel",
          "state": {
            "_view_name": "LayoutView",
            "grid_template_rows": null,
            "right": null,
            "justify_content": null,
            "_view_module": "@jupyter-widgets/base",
            "overflow": null,
            "_model_module_version": "1.2.0",
            "_view_count": null,
            "flex_flow": null,
            "width": null,
            "min_width": null,
            "border": null,
            "align_items": null,
            "bottom": null,
            "_model_module": "@jupyter-widgets/base",
            "top": null,
            "grid_column": null,
            "overflow_y": null,
            "overflow_x": null,
            "grid_auto_flow": null,
            "grid_area": null,
            "grid_template_columns": null,
            "flex": null,
            "_model_name": "LayoutModel",
            "justify_items": null,
            "grid_row": null,
            "max_height": null,
            "align_content": null,
            "visibility": null,
            "align_self": null,
            "height": null,
            "min_height": null,
            "padding": null,
            "grid_auto_rows": null,
            "grid_gap": null,
            "max_width": null,
            "order": null,
            "_view_module_version": "1.2.0",
            "grid_template_areas": null,
            "object_position": null,
            "object_fit": null,
            "grid_auto_columns": null,
            "margin": null,
            "display": null,
            "left": null
          }
        },
        "783f178280aa4f429d565495f0843a68": {
          "model_module": "@jupyter-widgets/controls",
          "model_name": "FloatProgressModel",
          "state": {
            "_view_name": "ProgressView",
            "style": "IPY_MODEL_f9700569c95a40bdb24cb4631da5242e",
            "_dom_classes": [],
            "description": "Downloading: 100%",
            "_model_name": "FloatProgressModel",
            "bar_style": "success",
            "max": 29,
            "_view_module": "@jupyter-widgets/controls",
            "_model_module_version": "1.5.0",
            "value": 29,
            "_view_count": null,
            "_view_module_version": "1.5.0",
            "orientation": "horizontal",
            "min": 0,
            "description_tooltip": null,
            "_model_module": "@jupyter-widgets/controls",
            "layout": "IPY_MODEL_9b693727c8414b85b6324aafe63e1047"
          }
        },
        "dfa8c34bdeb64b57b8a55be688323014": {
          "model_module": "@jupyter-widgets/controls",
          "model_name": "HTMLModel",
          "state": {
            "_view_name": "HTMLView",
            "style": "IPY_MODEL_e39fc924212945bb964105b4d50625a4",
            "_dom_classes": [],
            "description": "",
            "_model_name": "HTMLModel",
            "placeholder": "​",
            "_view_module": "@jupyter-widgets/controls",
            "_model_module_version": "1.5.0",
            "value": " 29.0/29.0 [00:00&lt;00:00, 52.3B/s]",
            "_view_count": null,
            "_view_module_version": "1.5.0",
            "description_tooltip": null,
            "_model_module": "@jupyter-widgets/controls",
            "layout": "IPY_MODEL_c3ddfeb6b2744d38a5ba857fd3e4cad4"
          }
        },
        "f9700569c95a40bdb24cb4631da5242e": {
          "model_module": "@jupyter-widgets/controls",
          "model_name": "ProgressStyleModel",
          "state": {
            "_view_name": "StyleView",
            "_model_name": "ProgressStyleModel",
            "description_width": "initial",
            "_view_module": "@jupyter-widgets/base",
            "_model_module_version": "1.5.0",
            "_view_count": null,
            "_view_module_version": "1.2.0",
            "bar_color": null,
            "_model_module": "@jupyter-widgets/controls"
          }
        },
        "9b693727c8414b85b6324aafe63e1047": {
          "model_module": "@jupyter-widgets/base",
          "model_name": "LayoutModel",
          "state": {
            "_view_name": "LayoutView",
            "grid_template_rows": null,
            "right": null,
            "justify_content": null,
            "_view_module": "@jupyter-widgets/base",
            "overflow": null,
            "_model_module_version": "1.2.0",
            "_view_count": null,
            "flex_flow": null,
            "width": null,
            "min_width": null,
            "border": null,
            "align_items": null,
            "bottom": null,
            "_model_module": "@jupyter-widgets/base",
            "top": null,
            "grid_column": null,
            "overflow_y": null,
            "overflow_x": null,
            "grid_auto_flow": null,
            "grid_area": null,
            "grid_template_columns": null,
            "flex": null,
            "_model_name": "LayoutModel",
            "justify_items": null,
            "grid_row": null,
            "max_height": null,
            "align_content": null,
            "visibility": null,
            "align_self": null,
            "height": null,
            "min_height": null,
            "padding": null,
            "grid_auto_rows": null,
            "grid_gap": null,
            "max_width": null,
            "order": null,
            "_view_module_version": "1.2.0",
            "grid_template_areas": null,
            "object_position": null,
            "object_fit": null,
            "grid_auto_columns": null,
            "margin": null,
            "display": null,
            "left": null
          }
        },
        "e39fc924212945bb964105b4d50625a4": {
          "model_module": "@jupyter-widgets/controls",
          "model_name": "DescriptionStyleModel",
          "state": {
            "_view_name": "StyleView",
            "_model_name": "DescriptionStyleModel",
            "description_width": "",
            "_view_module": "@jupyter-widgets/base",
            "_model_module_version": "1.5.0",
            "_view_count": null,
            "_view_module_version": "1.2.0",
            "_model_module": "@jupyter-widgets/controls"
          }
        },
        "c3ddfeb6b2744d38a5ba857fd3e4cad4": {
          "model_module": "@jupyter-widgets/base",
          "model_name": "LayoutModel",
          "state": {
            "_view_name": "LayoutView",
            "grid_template_rows": null,
            "right": null,
            "justify_content": null,
            "_view_module": "@jupyter-widgets/base",
            "overflow": null,
            "_model_module_version": "1.2.0",
            "_view_count": null,
            "flex_flow": null,
            "width": null,
            "min_width": null,
            "border": null,
            "align_items": null,
            "bottom": null,
            "_model_module": "@jupyter-widgets/base",
            "top": null,
            "grid_column": null,
            "overflow_y": null,
            "overflow_x": null,
            "grid_auto_flow": null,
            "grid_area": null,
            "grid_template_columns": null,
            "flex": null,
            "_model_name": "LayoutModel",
            "justify_items": null,
            "grid_row": null,
            "max_height": null,
            "align_content": null,
            "visibility": null,
            "align_self": null,
            "height": null,
            "min_height": null,
            "padding": null,
            "grid_auto_rows": null,
            "grid_gap": null,
            "max_width": null,
            "order": null,
            "_view_module_version": "1.2.0",
            "grid_template_areas": null,
            "object_position": null,
            "object_fit": null,
            "grid_auto_columns": null,
            "margin": null,
            "display": null,
            "left": null
          }
        },
        "1a477c617346468fb8928ab2f9502403": {
          "model_module": "@jupyter-widgets/controls",
          "model_name": "HBoxModel",
          "state": {
            "_view_name": "HBoxView",
            "_dom_classes": [],
            "_model_name": "HBoxModel",
            "_view_module": "@jupyter-widgets/controls",
            "_model_module_version": "1.5.0",
            "_view_count": null,
            "_view_module_version": "1.5.0",
            "box_style": "",
            "layout": "IPY_MODEL_74d33beffb084d8b93ed76ae99963463",
            "_model_module": "@jupyter-widgets/controls",
            "children": [
              "IPY_MODEL_ef9816f41022474d89e796e5bf177fdc",
              "IPY_MODEL_8617ef74e8a6470c8d7af90c306d5cf7"
            ]
          }
        },
        "74d33beffb084d8b93ed76ae99963463": {
          "model_module": "@jupyter-widgets/base",
          "model_name": "LayoutModel",
          "state": {
            "_view_name": "LayoutView",
            "grid_template_rows": null,
            "right": null,
            "justify_content": null,
            "_view_module": "@jupyter-widgets/base",
            "overflow": null,
            "_model_module_version": "1.2.0",
            "_view_count": null,
            "flex_flow": null,
            "width": null,
            "min_width": null,
            "border": null,
            "align_items": null,
            "bottom": null,
            "_model_module": "@jupyter-widgets/base",
            "top": null,
            "grid_column": null,
            "overflow_y": null,
            "overflow_x": null,
            "grid_auto_flow": null,
            "grid_area": null,
            "grid_template_columns": null,
            "flex": null,
            "_model_name": "LayoutModel",
            "justify_items": null,
            "grid_row": null,
            "max_height": null,
            "align_content": null,
            "visibility": null,
            "align_self": null,
            "height": null,
            "min_height": null,
            "padding": null,
            "grid_auto_rows": null,
            "grid_gap": null,
            "max_width": null,
            "order": null,
            "_view_module_version": "1.2.0",
            "grid_template_areas": null,
            "object_position": null,
            "object_fit": null,
            "grid_auto_columns": null,
            "margin": null,
            "display": null,
            "left": null
          }
        },
        "ef9816f41022474d89e796e5bf177fdc": {
          "model_module": "@jupyter-widgets/controls",
          "model_name": "FloatProgressModel",
          "state": {
            "_view_name": "ProgressView",
            "style": "IPY_MODEL_9613c2bc92f944d4afef04f4635b15f5",
            "_dom_classes": [],
            "description": "Downloading: 100%",
            "_model_name": "FloatProgressModel",
            "bar_style": "success",
            "max": 625,
            "_view_module": "@jupyter-widgets/controls",
            "_model_module_version": "1.5.0",
            "value": 625,
            "_view_count": null,
            "_view_module_version": "1.5.0",
            "orientation": "horizontal",
            "min": 0,
            "description_tooltip": null,
            "_model_module": "@jupyter-widgets/controls",
            "layout": "IPY_MODEL_52c2123f094a48f6a5a9f1ae7e19b2be"
          }
        },
        "8617ef74e8a6470c8d7af90c306d5cf7": {
          "model_module": "@jupyter-widgets/controls",
          "model_name": "HTMLModel",
          "state": {
            "_view_name": "HTMLView",
            "style": "IPY_MODEL_c427cda872e9419c8c579a43479a72df",
            "_dom_classes": [],
            "description": "",
            "_model_name": "HTMLModel",
            "placeholder": "​",
            "_view_module": "@jupyter-widgets/controls",
            "_model_module_version": "1.5.0",
            "value": " 625/625 [00:21&lt;00:00, 28.7B/s]",
            "_view_count": null,
            "_view_module_version": "1.5.0",
            "description_tooltip": null,
            "_model_module": "@jupyter-widgets/controls",
            "layout": "IPY_MODEL_47c3a531250c49cbb68a5283c09ed828"
          }
        },
        "9613c2bc92f944d4afef04f4635b15f5": {
          "model_module": "@jupyter-widgets/controls",
          "model_name": "ProgressStyleModel",
          "state": {
            "_view_name": "StyleView",
            "_model_name": "ProgressStyleModel",
            "description_width": "initial",
            "_view_module": "@jupyter-widgets/base",
            "_model_module_version": "1.5.0",
            "_view_count": null,
            "_view_module_version": "1.2.0",
            "bar_color": null,
            "_model_module": "@jupyter-widgets/controls"
          }
        },
        "52c2123f094a48f6a5a9f1ae7e19b2be": {
          "model_module": "@jupyter-widgets/base",
          "model_name": "LayoutModel",
          "state": {
            "_view_name": "LayoutView",
            "grid_template_rows": null,
            "right": null,
            "justify_content": null,
            "_view_module": "@jupyter-widgets/base",
            "overflow": null,
            "_model_module_version": "1.2.0",
            "_view_count": null,
            "flex_flow": null,
            "width": null,
            "min_width": null,
            "border": null,
            "align_items": null,
            "bottom": null,
            "_model_module": "@jupyter-widgets/base",
            "top": null,
            "grid_column": null,
            "overflow_y": null,
            "overflow_x": null,
            "grid_auto_flow": null,
            "grid_area": null,
            "grid_template_columns": null,
            "flex": null,
            "_model_name": "LayoutModel",
            "justify_items": null,
            "grid_row": null,
            "max_height": null,
            "align_content": null,
            "visibility": null,
            "align_self": null,
            "height": null,
            "min_height": null,
            "padding": null,
            "grid_auto_rows": null,
            "grid_gap": null,
            "max_width": null,
            "order": null,
            "_view_module_version": "1.2.0",
            "grid_template_areas": null,
            "object_position": null,
            "object_fit": null,
            "grid_auto_columns": null,
            "margin": null,
            "display": null,
            "left": null
          }
        },
        "c427cda872e9419c8c579a43479a72df": {
          "model_module": "@jupyter-widgets/controls",
          "model_name": "DescriptionStyleModel",
          "state": {
            "_view_name": "StyleView",
            "_model_name": "DescriptionStyleModel",
            "description_width": "",
            "_view_module": "@jupyter-widgets/base",
            "_model_module_version": "1.5.0",
            "_view_count": null,
            "_view_module_version": "1.2.0",
            "_model_module": "@jupyter-widgets/controls"
          }
        },
        "47c3a531250c49cbb68a5283c09ed828": {
          "model_module": "@jupyter-widgets/base",
          "model_name": "LayoutModel",
          "state": {
            "_view_name": "LayoutView",
            "grid_template_rows": null,
            "right": null,
            "justify_content": null,
            "_view_module": "@jupyter-widgets/base",
            "overflow": null,
            "_model_module_version": "1.2.0",
            "_view_count": null,
            "flex_flow": null,
            "width": null,
            "min_width": null,
            "border": null,
            "align_items": null,
            "bottom": null,
            "_model_module": "@jupyter-widgets/base",
            "top": null,
            "grid_column": null,
            "overflow_y": null,
            "overflow_x": null,
            "grid_auto_flow": null,
            "grid_area": null,
            "grid_template_columns": null,
            "flex": null,
            "_model_name": "LayoutModel",
            "justify_items": null,
            "grid_row": null,
            "max_height": null,
            "align_content": null,
            "visibility": null,
            "align_self": null,
            "height": null,
            "min_height": null,
            "padding": null,
            "grid_auto_rows": null,
            "grid_gap": null,
            "max_width": null,
            "order": null,
            "_view_module_version": "1.2.0",
            "grid_template_areas": null,
            "object_position": null,
            "object_fit": null,
            "grid_auto_columns": null,
            "margin": null,
            "display": null,
            "left": null
          }
        },
        "4f4d935b79b944f9be5dc5c5e6a89bd9": {
          "model_module": "@jupyter-widgets/controls",
          "model_name": "HBoxModel",
          "state": {
            "_view_name": "HBoxView",
            "_dom_classes": [],
            "_model_name": "HBoxModel",
            "_view_module": "@jupyter-widgets/controls",
            "_model_module_version": "1.5.0",
            "_view_count": null,
            "_view_module_version": "1.5.0",
            "box_style": "",
            "layout": "IPY_MODEL_66ac10ee610642b4ad17994df879617f",
            "_model_module": "@jupyter-widgets/controls",
            "children": [
              "IPY_MODEL_1db12195837144b59fba69af23666883",
              "IPY_MODEL_d6aa78a28a6343afa082d49d626233ad"
            ]
          }
        },
        "66ac10ee610642b4ad17994df879617f": {
          "model_module": "@jupyter-widgets/base",
          "model_name": "LayoutModel",
          "state": {
            "_view_name": "LayoutView",
            "grid_template_rows": null,
            "right": null,
            "justify_content": null,
            "_view_module": "@jupyter-widgets/base",
            "overflow": null,
            "_model_module_version": "1.2.0",
            "_view_count": null,
            "flex_flow": null,
            "width": null,
            "min_width": null,
            "border": null,
            "align_items": null,
            "bottom": null,
            "_model_module": "@jupyter-widgets/base",
            "top": null,
            "grid_column": null,
            "overflow_y": null,
            "overflow_x": null,
            "grid_auto_flow": null,
            "grid_area": null,
            "grid_template_columns": null,
            "flex": null,
            "_model_name": "LayoutModel",
            "justify_items": null,
            "grid_row": null,
            "max_height": null,
            "align_content": null,
            "visibility": null,
            "align_self": null,
            "height": null,
            "min_height": null,
            "padding": null,
            "grid_auto_rows": null,
            "grid_gap": null,
            "max_width": null,
            "order": null,
            "_view_module_version": "1.2.0",
            "grid_template_areas": null,
            "object_position": null,
            "object_fit": null,
            "grid_auto_columns": null,
            "margin": null,
            "display": null,
            "left": null
          }
        },
        "1db12195837144b59fba69af23666883": {
          "model_module": "@jupyter-widgets/controls",
          "model_name": "FloatProgressModel",
          "state": {
            "_view_name": "ProgressView",
            "style": "IPY_MODEL_df6666c576ba4590a8bed16fdf4245de",
            "_dom_classes": [],
            "description": "Downloading: 100%",
            "_model_name": "FloatProgressModel",
            "bar_style": "success",
            "max": 1083389348,
            "_view_module": "@jupyter-widgets/controls",
            "_model_module_version": "1.5.0",
            "value": 1083389348,
            "_view_count": null,
            "_view_module_version": "1.5.0",
            "orientation": "horizontal",
            "min": 0,
            "description_tooltip": null,
            "_model_module": "@jupyter-widgets/controls",
            "layout": "IPY_MODEL_31274a48e6e24a1589312d1483cfd46c"
          }
        },
        "d6aa78a28a6343afa082d49d626233ad": {
          "model_module": "@jupyter-widgets/controls",
          "model_name": "HTMLModel",
          "state": {
            "_view_name": "HTMLView",
            "style": "IPY_MODEL_a40ec6f6cca44b4a900c323afc8667d4",
            "_dom_classes": [],
            "description": "",
            "_model_name": "HTMLModel",
            "placeholder": "​",
            "_view_module": "@jupyter-widgets/controls",
            "_model_module_version": "1.5.0",
            "value": " 1.08G/1.08G [00:21&lt;00:00, 50.9MB/s]",
            "_view_count": null,
            "_view_module_version": "1.5.0",
            "description_tooltip": null,
            "_model_module": "@jupyter-widgets/controls",
            "layout": "IPY_MODEL_084692b66a3c4f2d9890982944f1dc8f"
          }
        },
        "df6666c576ba4590a8bed16fdf4245de": {
          "model_module": "@jupyter-widgets/controls",
          "model_name": "ProgressStyleModel",
          "state": {
            "_view_name": "StyleView",
            "_model_name": "ProgressStyleModel",
            "description_width": "initial",
            "_view_module": "@jupyter-widgets/base",
            "_model_module_version": "1.5.0",
            "_view_count": null,
            "_view_module_version": "1.2.0",
            "bar_color": null,
            "_model_module": "@jupyter-widgets/controls"
          }
        },
        "31274a48e6e24a1589312d1483cfd46c": {
          "model_module": "@jupyter-widgets/base",
          "model_name": "LayoutModel",
          "state": {
            "_view_name": "LayoutView",
            "grid_template_rows": null,
            "right": null,
            "justify_content": null,
            "_view_module": "@jupyter-widgets/base",
            "overflow": null,
            "_model_module_version": "1.2.0",
            "_view_count": null,
            "flex_flow": null,
            "width": null,
            "min_width": null,
            "border": null,
            "align_items": null,
            "bottom": null,
            "_model_module": "@jupyter-widgets/base",
            "top": null,
            "grid_column": null,
            "overflow_y": null,
            "overflow_x": null,
            "grid_auto_flow": null,
            "grid_area": null,
            "grid_template_columns": null,
            "flex": null,
            "_model_name": "LayoutModel",
            "justify_items": null,
            "grid_row": null,
            "max_height": null,
            "align_content": null,
            "visibility": null,
            "align_self": null,
            "height": null,
            "min_height": null,
            "padding": null,
            "grid_auto_rows": null,
            "grid_gap": null,
            "max_width": null,
            "order": null,
            "_view_module_version": "1.2.0",
            "grid_template_areas": null,
            "object_position": null,
            "object_fit": null,
            "grid_auto_columns": null,
            "margin": null,
            "display": null,
            "left": null
          }
        },
        "a40ec6f6cca44b4a900c323afc8667d4": {
          "model_module": "@jupyter-widgets/controls",
          "model_name": "DescriptionStyleModel",
          "state": {
            "_view_name": "StyleView",
            "_model_name": "DescriptionStyleModel",
            "description_width": "",
            "_view_module": "@jupyter-widgets/base",
            "_model_module_version": "1.5.0",
            "_view_count": null,
            "_view_module_version": "1.2.0",
            "_model_module": "@jupyter-widgets/controls"
          }
        },
        "084692b66a3c4f2d9890982944f1dc8f": {
          "model_module": "@jupyter-widgets/base",
          "model_name": "LayoutModel",
          "state": {
            "_view_name": "LayoutView",
            "grid_template_rows": null,
            "right": null,
            "justify_content": null,
            "_view_module": "@jupyter-widgets/base",
            "overflow": null,
            "_model_module_version": "1.2.0",
            "_view_count": null,
            "flex_flow": null,
            "width": null,
            "min_width": null,
            "border": null,
            "align_items": null,
            "bottom": null,
            "_model_module": "@jupyter-widgets/base",
            "top": null,
            "grid_column": null,
            "overflow_y": null,
            "overflow_x": null,
            "grid_auto_flow": null,
            "grid_area": null,
            "grid_template_columns": null,
            "flex": null,
            "_model_name": "LayoutModel",
            "justify_items": null,
            "grid_row": null,
            "max_height": null,
            "align_content": null,
            "visibility": null,
            "align_self": null,
            "height": null,
            "min_height": null,
            "padding": null,
            "grid_auto_rows": null,
            "grid_gap": null,
            "max_width": null,
            "order": null,
            "_view_module_version": "1.2.0",
            "grid_template_areas": null,
            "object_position": null,
            "object_fit": null,
            "grid_auto_columns": null,
            "margin": null,
            "display": null,
            "left": null
          }
        }
      }
    }
  },
  "cells": [
    {
      "cell_type": "markdown",
      "metadata": {
        "id": "view-in-github",
        "colab_type": "text"
      },
      "source": [
        "<a href=\"https://colab.research.google.com/github/zyberg2091/Aapka-Apna-Hiphop/blob/main/Dear_watson_2.0_.ipynb\" target=\"_parent\"><img src=\"https://colab.research.google.com/assets/colab-badge.svg\" alt=\"Open In Colab\"/></a>"
      ]
    },
    {
      "cell_type": "code",
      "metadata": {
        "colab": {
          "base_uri": "https://localhost:8080/"
        },
        "id": "bA8VX4zCZ4ge",
        "outputId": "69a510bf-4ceb-4d42-a2af-12e65aa3ccb6"
      },
      "source": [
        "!pip install kaggle"
      ],
      "execution_count": null,
      "outputs": [
        {
          "output_type": "stream",
          "text": [
            "Requirement already satisfied: kaggle in /usr/local/lib/python3.7/dist-packages (1.5.10)\n",
            "Requirement already satisfied: python-dateutil in /usr/local/lib/python3.7/dist-packages (from kaggle) (2.8.1)\n",
            "Requirement already satisfied: urllib3 in /usr/local/lib/python3.7/dist-packages (from kaggle) (1.24.3)\n",
            "Requirement already satisfied: tqdm in /usr/local/lib/python3.7/dist-packages (from kaggle) (4.41.1)\n",
            "Requirement already satisfied: requests in /usr/local/lib/python3.7/dist-packages (from kaggle) (2.23.0)\n",
            "Requirement already satisfied: six>=1.10 in /usr/local/lib/python3.7/dist-packages (from kaggle) (1.15.0)\n",
            "Requirement already satisfied: certifi in /usr/local/lib/python3.7/dist-packages (from kaggle) (2020.12.5)\n",
            "Requirement already satisfied: python-slugify in /usr/local/lib/python3.7/dist-packages (from kaggle) (4.0.1)\n",
            "Requirement already satisfied: chardet<4,>=3.0.2 in /usr/local/lib/python3.7/dist-packages (from requests->kaggle) (3.0.4)\n",
            "Requirement already satisfied: idna<3,>=2.5 in /usr/local/lib/python3.7/dist-packages (from requests->kaggle) (2.10)\n",
            "Requirement already satisfied: text-unidecode>=1.3 in /usr/local/lib/python3.7/dist-packages (from python-slugify->kaggle) (1.3)\n"
          ],
          "name": "stdout"
        }
      ]
    },
    {
      "cell_type": "code",
      "metadata": {
        "id": "NgfylNH3Lc7N"
      },
      "source": [
        "!mkdir ~/.kaggle"
      ],
      "execution_count": null,
      "outputs": []
    },
    {
      "cell_type": "code",
      "metadata": {
        "id": "vq_TGaoMN1H4"
      },
      "source": [
        "!cp /content/drive/MyDrive/kaggle.json ~/.kaggle/kaggle.json"
      ],
      "execution_count": null,
      "outputs": []
    },
    {
      "cell_type": "code",
      "metadata": {
        "colab": {
          "base_uri": "https://localhost:8080/"
        },
        "id": "i6Cb3fmVOMz6",
        "outputId": "9bb552eb-b633-4836-f3fe-64eaf800bb17"
      },
      "source": [
        "!kaggle competitions download -c contradictory-my-dear-watson"
      ],
      "execution_count": null,
      "outputs": [
        {
          "output_type": "stream",
          "text": [
            "Warning: Looks like you're using an outdated API Version, please consider updating (server 1.5.12 / client 1.5.4)\n",
            "Downloading test.csv.zip to /content\n",
            "  0% 0.00/536k [00:00<?, ?B/s]\n",
            "100% 536k/536k [00:00<00:00, 34.6MB/s]\n",
            "Downloading sample_submission.csv to /content\n",
            "  0% 0.00/66.0k [00:00<?, ?B/s]\n",
            "100% 66.0k/66.0k [00:00<00:00, 62.8MB/s]\n",
            "Downloading train.csv.zip to /content\n",
            "  0% 0.00/1.23M [00:00<?, ?B/s]\n",
            "100% 1.23M/1.23M [00:00<00:00, 40.7MB/s]\n"
          ],
          "name": "stdout"
        }
      ]
    },
    {
      "cell_type": "code",
      "metadata": {
        "id": "8VaSIxHuOOGu"
      },
      "source": [
        "# !unzip train.csv.zip -d sample_data/"
      ],
      "execution_count": null,
      "outputs": []
    },
    {
      "cell_type": "code",
      "metadata": {
        "colab": {
          "base_uri": "https://localhost:8080/"
        },
        "id": "cIW655ouOcCl",
        "outputId": "7b61747a-81be-4e10-dae8-8c0d545505e6"
      },
      "source": [
        "!unzip train.csv.zip\n",
        "!unzip test.csv.zip"
      ],
      "execution_count": null,
      "outputs": [
        {
          "output_type": "stream",
          "text": [
            "Archive:  train.csv.zip\n",
            "  inflating: train.csv               \n",
            "Archive:  test.csv.zip\n",
            "  inflating: test.csv                \n"
          ],
          "name": "stdout"
        }
      ]
    },
    {
      "cell_type": "code",
      "metadata": {
        "id": "9Szo7vOWOqHu"
      },
      "source": [
        "import pandas as pd\n",
        "import numpy as np"
      ],
      "execution_count": null,
      "outputs": []
    },
    {
      "cell_type": "code",
      "metadata": {
        "colab": {
          "base_uri": "https://localhost:8080/",
          "height": 194
        },
        "id": "dKDDd2ioQoHy",
        "outputId": "99ec9e0a-21e0-419b-a828-6616de798762"
      },
      "source": [
        "df=pd.read_csv('train.csv')\n",
        "df.head()\n"
      ],
      "execution_count": null,
      "outputs": [
        {
          "output_type": "execute_result",
          "data": {
            "text/html": [
              "<div>\n",
              "<style scoped>\n",
              "    .dataframe tbody tr th:only-of-type {\n",
              "        vertical-align: middle;\n",
              "    }\n",
              "\n",
              "    .dataframe tbody tr th {\n",
              "        vertical-align: top;\n",
              "    }\n",
              "\n",
              "    .dataframe thead th {\n",
              "        text-align: right;\n",
              "    }\n",
              "</style>\n",
              "<table border=\"1\" class=\"dataframe\">\n",
              "  <thead>\n",
              "    <tr style=\"text-align: right;\">\n",
              "      <th></th>\n",
              "      <th>id</th>\n",
              "      <th>premise</th>\n",
              "      <th>hypothesis</th>\n",
              "      <th>lang_abv</th>\n",
              "      <th>language</th>\n",
              "      <th>label</th>\n",
              "    </tr>\n",
              "  </thead>\n",
              "  <tbody>\n",
              "    <tr>\n",
              "      <th>0</th>\n",
              "      <td>5130fd2cb5</td>\n",
              "      <td>and these comments were considered in formulat...</td>\n",
              "      <td>The rules developed in the interim were put to...</td>\n",
              "      <td>en</td>\n",
              "      <td>English</td>\n",
              "      <td>0</td>\n",
              "    </tr>\n",
              "    <tr>\n",
              "      <th>1</th>\n",
              "      <td>5b72532a0b</td>\n",
              "      <td>These are issues that we wrestle with in pract...</td>\n",
              "      <td>Practice groups are not permitted to work on t...</td>\n",
              "      <td>en</td>\n",
              "      <td>English</td>\n",
              "      <td>2</td>\n",
              "    </tr>\n",
              "    <tr>\n",
              "      <th>2</th>\n",
              "      <td>3931fbe82a</td>\n",
              "      <td>Des petites choses comme celles-là font une di...</td>\n",
              "      <td>J'essayais d'accomplir quelque chose.</td>\n",
              "      <td>fr</td>\n",
              "      <td>French</td>\n",
              "      <td>0</td>\n",
              "    </tr>\n",
              "    <tr>\n",
              "      <th>3</th>\n",
              "      <td>5622f0c60b</td>\n",
              "      <td>you know they can't really defend themselves l...</td>\n",
              "      <td>They can't defend themselves because of their ...</td>\n",
              "      <td>en</td>\n",
              "      <td>English</td>\n",
              "      <td>0</td>\n",
              "    </tr>\n",
              "    <tr>\n",
              "      <th>4</th>\n",
              "      <td>86aaa48b45</td>\n",
              "      <td>ในการเล่นบทบาทสมมุติก็เช่นกัน โอกาสที่จะได้แสด...</td>\n",
              "      <td>เด็กสามารถเห็นได้ว่าชาติพันธุ์แตกต่างกันอย่างไร</td>\n",
              "      <td>th</td>\n",
              "      <td>Thai</td>\n",
              "      <td>1</td>\n",
              "    </tr>\n",
              "  </tbody>\n",
              "</table>\n",
              "</div>"
            ],
            "text/plain": [
              "           id  ... label\n",
              "0  5130fd2cb5  ...     0\n",
              "1  5b72532a0b  ...     2\n",
              "2  3931fbe82a  ...     0\n",
              "3  5622f0c60b  ...     0\n",
              "4  86aaa48b45  ...     1\n",
              "\n",
              "[5 rows x 6 columns]"
            ]
          },
          "metadata": {
            "tags": []
          },
          "execution_count": 8
        }
      ]
    },
    {
      "cell_type": "code",
      "metadata": {
        "colab": {
          "base_uri": "https://localhost:8080/"
        },
        "id": "7E6Qxfd5hRZr",
        "outputId": "788ccf7d-aa49-4db3-b6c1-9613d48b8966"
      },
      "source": [
        "df['language'].unique()"
      ],
      "execution_count": null,
      "outputs": [
        {
          "output_type": "execute_result",
          "data": {
            "text/plain": [
              "array(['English', 'French', 'Thai', 'Turkish', 'Urdu', 'Russian',\n",
              "       'Bulgarian', 'German', 'Arabic', 'Chinese', 'Hindi', 'Swahili',\n",
              "       'Vietnamese', 'Spanish', 'Greek'], dtype=object)"
            ]
          },
          "metadata": {
            "tags": []
          },
          "execution_count": 9
        }
      ]
    },
    {
      "cell_type": "code",
      "metadata": {
        "colab": {
          "base_uri": "https://localhost:8080/"
        },
        "id": "yKkCxEYci44D",
        "outputId": "7a59beb5-0eeb-41a9-b2ab-7479d4a44eb8"
      },
      "source": [
        "df.info()"
      ],
      "execution_count": null,
      "outputs": [
        {
          "output_type": "stream",
          "text": [
            "<class 'pandas.core.frame.DataFrame'>\n",
            "RangeIndex: 12120 entries, 0 to 12119\n",
            "Data columns (total 6 columns):\n",
            " #   Column      Non-Null Count  Dtype \n",
            "---  ------      --------------  ----- \n",
            " 0   id          12120 non-null  object\n",
            " 1   premise     12120 non-null  object\n",
            " 2   hypothesis  12120 non-null  object\n",
            " 3   lang_abv    12120 non-null  object\n",
            " 4   language    12120 non-null  object\n",
            " 5   label       12120 non-null  int64 \n",
            "dtypes: int64(1), object(5)\n",
            "memory usage: 568.2+ KB\n"
          ],
          "name": "stdout"
        }
      ]
    },
    {
      "cell_type": "markdown",
      "metadata": {
        "id": "jlCrFBAWscTC"
      },
      "source": [
        "#Implementing transformer models and finding the best result"
      ]
    },
    {
      "cell_type": "markdown",
      "metadata": {
        "id": "svdbR78pshx_"
      },
      "source": [
        "1. BERT-base-uncased-multilingual"
      ]
    },
    {
      "cell_type": "code",
      "metadata": {
        "colab": {
          "base_uri": "https://localhost:8080/"
        },
        "id": "9EmkIYTavG9O",
        "outputId": "c47b5013-f07d-4518-af19-e90b194cf078"
      },
      "source": [
        "!pip install transformers"
      ],
      "execution_count": null,
      "outputs": [
        {
          "output_type": "stream",
          "text": [
            "Collecting transformers\n",
            "\u001b[?25l  Downloading https://files.pythonhosted.org/packages/2c/d8/5144b0712f7f82229a8da5983a8fbb8d30cec5fbd5f8d12ffe1854dcea67/transformers-4.4.1-py3-none-any.whl (2.1MB)\n",
            "\u001b[K     |████████████████████████████████| 2.1MB 6.7MB/s \n",
            "\u001b[?25hRequirement already satisfied: importlib-metadata; python_version < \"3.8\" in /usr/local/lib/python3.7/dist-packages (from transformers) (3.7.2)\n",
            "Requirement already satisfied: numpy>=1.17 in /usr/local/lib/python3.7/dist-packages (from transformers) (1.19.5)\n",
            "Requirement already satisfied: filelock in /usr/local/lib/python3.7/dist-packages (from transformers) (3.0.12)\n",
            "Requirement already satisfied: regex!=2019.12.17 in /usr/local/lib/python3.7/dist-packages (from transformers) (2019.12.20)\n",
            "Requirement already satisfied: packaging in /usr/local/lib/python3.7/dist-packages (from transformers) (20.9)\n",
            "Requirement already satisfied: tqdm>=4.27 in /usr/local/lib/python3.7/dist-packages (from transformers) (4.41.1)\n",
            "Collecting tokenizers<0.11,>=0.10.1\n",
            "\u001b[?25l  Downloading https://files.pythonhosted.org/packages/71/23/2ddc317b2121117bf34dd00f5b0de194158f2a44ee2bf5e47c7166878a97/tokenizers-0.10.1-cp37-cp37m-manylinux2010_x86_64.whl (3.2MB)\n",
            "\u001b[K     |████████████████████████████████| 3.2MB 43.0MB/s \n",
            "\u001b[?25hRequirement already satisfied: requests in /usr/local/lib/python3.7/dist-packages (from transformers) (2.23.0)\n",
            "Collecting sacremoses\n",
            "\u001b[?25l  Downloading https://files.pythonhosted.org/packages/7d/34/09d19aff26edcc8eb2a01bed8e98f13a1537005d31e95233fd48216eed10/sacremoses-0.0.43.tar.gz (883kB)\n",
            "\u001b[K     |████████████████████████████████| 890kB 35.8MB/s \n",
            "\u001b[?25hRequirement already satisfied: typing-extensions>=3.6.4; python_version < \"3.8\" in /usr/local/lib/python3.7/dist-packages (from importlib-metadata; python_version < \"3.8\"->transformers) (3.7.4.3)\n",
            "Requirement already satisfied: zipp>=0.5 in /usr/local/lib/python3.7/dist-packages (from importlib-metadata; python_version < \"3.8\"->transformers) (3.4.1)\n",
            "Requirement already satisfied: pyparsing>=2.0.2 in /usr/local/lib/python3.7/dist-packages (from packaging->transformers) (2.4.7)\n",
            "Requirement already satisfied: urllib3!=1.25.0,!=1.25.1,<1.26,>=1.21.1 in /usr/local/lib/python3.7/dist-packages (from requests->transformers) (1.24.3)\n",
            "Requirement already satisfied: idna<3,>=2.5 in /usr/local/lib/python3.7/dist-packages (from requests->transformers) (2.10)\n",
            "Requirement already satisfied: certifi>=2017.4.17 in /usr/local/lib/python3.7/dist-packages (from requests->transformers) (2020.12.5)\n",
            "Requirement already satisfied: chardet<4,>=3.0.2 in /usr/local/lib/python3.7/dist-packages (from requests->transformers) (3.0.4)\n",
            "Requirement already satisfied: six in /usr/local/lib/python3.7/dist-packages (from sacremoses->transformers) (1.15.0)\n",
            "Requirement already satisfied: click in /usr/local/lib/python3.7/dist-packages (from sacremoses->transformers) (7.1.2)\n",
            "Requirement already satisfied: joblib in /usr/local/lib/python3.7/dist-packages (from sacremoses->transformers) (1.0.1)\n",
            "Building wheels for collected packages: sacremoses\n",
            "  Building wheel for sacremoses (setup.py) ... \u001b[?25l\u001b[?25hdone\n",
            "  Created wheel for sacremoses: filename=sacremoses-0.0.43-cp37-none-any.whl size=893262 sha256=db4b2a0f68ab60abe61384315a7a8cad54f29031c0ce48c4f74646490c2e4f67\n",
            "  Stored in directory: /root/.cache/pip/wheels/29/3c/fd/7ce5c3f0666dab31a50123635e6fb5e19ceb42ce38d4e58f45\n",
            "Successfully built sacremoses\n",
            "Installing collected packages: tokenizers, sacremoses, transformers\n",
            "Successfully installed sacremoses-0.0.43 tokenizers-0.10.1 transformers-4.4.1\n"
          ],
          "name": "stdout"
        }
      ]
    },
    {
      "cell_type": "code",
      "metadata": {
        "id": "38VaqPo8yRUL"
      },
      "source": [
        "import tensorflow as tf\n",
        "from tensorflow.keras.preprocessing.sequence import pad_sequences"
      ],
      "execution_count": null,
      "outputs": []
    },
    {
      "cell_type": "code",
      "metadata": {
        "id": "kUEtfcvrvL_t"
      },
      "source": [
        "import transformers\n",
        "from tokenizers import BertWordPieceTokenizer\n",
        "from transformers import TFBertModel,BertTokenizerFast,BertTokenizer"
      ],
      "execution_count": null,
      "outputs": []
    },
    {
      "cell_type": "code",
      "metadata": {
        "colab": {
          "base_uri": "https://localhost:8080/",
          "height": 237,
          "referenced_widgets": [
            "fc1fd9fade1c4f6fa8bc58ed41343223",
            "498b2cb9360e48cda04852c8d49e79a7",
            "9daf0e78833542a79e6e54ef57c0929c",
            "945094fcbdab46459558fd7741be2efd",
            "b58d497ab0eb482e9ae79d3b5a4bca8c",
            "8a7164755db94051adad73bdaf63ea40",
            "6280c3a803d54028a1aee9adb0da65d5",
            "9e03d32f56e24df1ac05257e498b1745",
            "08c94ceb5d314a5b9aa1490a8edda313",
            "23502c8720be456f9390c4c0a89d78ef",
            "33b7531b23b54f0189d7d9727354c302",
            "17cc6437b71c4296b1dc3345e48640b3",
            "2c333d2a3e9d489d99b510622b944353",
            "fd2db9d609b542938b1a7d8b30bc5607",
            "dc7db7ec30c64f2bb965cbedb611ca51",
            "1115795b35d8427589bb9939c56f98df",
            "ecff11e5ab1845faa325d84df90c821b",
            "bfd55533cf174ec899049bb235179087",
            "783f178280aa4f429d565495f0843a68",
            "dfa8c34bdeb64b57b8a55be688323014",
            "f9700569c95a40bdb24cb4631da5242e",
            "9b693727c8414b85b6324aafe63e1047",
            "e39fc924212945bb964105b4d50625a4",
            "c3ddfeb6b2744d38a5ba857fd3e4cad4"
          ]
        },
        "id": "1j9Lrf5d8Iwp",
        "outputId": "80b5c024-2626-480a-a2d0-0558526a9762"
      },
      "source": [
        "bert_tokenizer=BertTokenizerFast.from_pretrained(\"bert-base-multilingual-cased\")\n",
        "bert_tokenizer.save_pretrained('.')"
      ],
      "execution_count": null,
      "outputs": [
        {
          "output_type": "display_data",
          "data": {
            "application/vnd.jupyter.widget-view+json": {
              "model_id": "fc1fd9fade1c4f6fa8bc58ed41343223",
              "version_minor": 0,
              "version_major": 2
            },
            "text/plain": [
              "HBox(children=(FloatProgress(value=0.0, description='Downloading', max=995526.0, style=ProgressStyle(descripti…"
            ]
          },
          "metadata": {
            "tags": []
          }
        },
        {
          "output_type": "stream",
          "text": [
            "\n"
          ],
          "name": "stdout"
        },
        {
          "output_type": "display_data",
          "data": {
            "application/vnd.jupyter.widget-view+json": {
              "model_id": "08c94ceb5d314a5b9aa1490a8edda313",
              "version_minor": 0,
              "version_major": 2
            },
            "text/plain": [
              "HBox(children=(FloatProgress(value=0.0, description='Downloading', max=1961828.0, style=ProgressStyle(descript…"
            ]
          },
          "metadata": {
            "tags": []
          }
        },
        {
          "output_type": "stream",
          "text": [
            "\n"
          ],
          "name": "stdout"
        },
        {
          "output_type": "display_data",
          "data": {
            "application/vnd.jupyter.widget-view+json": {
              "model_id": "ecff11e5ab1845faa325d84df90c821b",
              "version_minor": 0,
              "version_major": 2
            },
            "text/plain": [
              "HBox(children=(FloatProgress(value=0.0, description='Downloading', max=29.0, style=ProgressStyle(description_w…"
            ]
          },
          "metadata": {
            "tags": []
          }
        },
        {
          "output_type": "stream",
          "text": [
            "\n"
          ],
          "name": "stdout"
        },
        {
          "output_type": "execute_result",
          "data": {
            "text/plain": [
              "('./tokenizer_config.json',\n",
              " './special_tokens_map.json',\n",
              " './vocab.txt',\n",
              " './added_tokens.json')"
            ]
          },
          "metadata": {
            "tags": []
          },
          "execution_count": 14
        }
      ]
    },
    {
      "cell_type": "code",
      "metadata": {
        "id": "4mrXZUjA9JXg"
      },
      "source": [
        "tokenizer=BertTokenizerFast('/content/vocab.txt')"
      ],
      "execution_count": null,
      "outputs": []
    },
    {
      "cell_type": "code",
      "metadata": {
        "colab": {
          "base_uri": "https://localhost:8080/"
        },
        "id": "XJJuPfbTqeRN",
        "outputId": "ba684f22-2308-497c-ad28-46d653c1debf"
      },
      "source": [
        "tokenizer"
      ],
      "execution_count": null,
      "outputs": [
        {
          "output_type": "execute_result",
          "data": {
            "text/plain": [
              "PreTrainedTokenizerFast(name_or_path='', vocab_size=119547, model_max_len=1000000000000000019884624838656, is_fast=True, padding_side='right', special_tokens={'unk_token': '[UNK]', 'sep_token': '[SEP]', 'pad_token': '[PAD]', 'cls_token': '[CLS]', 'mask_token': '[MASK]'})"
            ]
          },
          "metadata": {
            "tags": []
          },
          "execution_count": 16
        }
      ]
    },
    {
      "cell_type": "code",
      "metadata": {
        "id": "Zt00Jud1_7Nr"
      },
      "source": [
        "sentences=df['hypothesis'].values\n",
        "prem_sentences=df['premise'].values"
      ],
      "execution_count": null,
      "outputs": []
    },
    {
      "cell_type": "code",
      "metadata": {
        "colab": {
          "base_uri": "https://localhost:8080/"
        },
        "id": "qPl_JEpZcmZp",
        "outputId": "2b5b92ed-50b1-447a-b876-a003c1813b9b"
      },
      "source": [
        "df.label.nunique()"
      ],
      "execution_count": null,
      "outputs": [
        {
          "output_type": "execute_result",
          "data": {
            "text/plain": [
              "3"
            ]
          },
          "metadata": {
            "tags": []
          },
          "execution_count": 18
        }
      ]
    },
    {
      "cell_type": "code",
      "metadata": {
        "id": "JLSVR1bIcH5-"
      },
      "source": [
        "labels=df['label'].values\n",
        "\n",
        "label_data=tf.keras.utils.to_categorical(labels,num_classes=3)"
      ],
      "execution_count": null,
      "outputs": []
    },
    {
      "cell_type": "code",
      "metadata": {
        "id": "t3D76RCIjiJ2"
      },
      "source": [
        "# no need of cleaning data..lets move on to preprocessing data before feeding into ML model pipeline\n",
        "# data prep engine\n",
        "\n",
        "class Bert_Engine:\n",
        "  def __init__(self,max_len,spl_tokens,tokenizer):\n",
        "    self.max_len=max_len\n",
        "    self.tokenizer=tokenizer\n",
        "    self.spl_tokens=spl_tokens\n",
        "\n",
        "  def tokenization_and_padding(self,sentences,prem_sentences):\n",
        "    hy_tokenized_sentences,prem_tokenized_sentences=[],[]\n",
        "    for premise,sentence in zip(sentences,prem_sentences):\n",
        "      hy_tokens=self.tokenizer.encode(sentence,add_special_tokens=self.spl_tokens,max_length=self.max_len,truncation=True)\n",
        "      prem_tokens=self.tokenizer.encode(premise,add_special_tokens=self.spl_tokens,max_length=self.max_len,truncation=True)\n",
        "      hy_tokenized_sentences.append(hy_tokens)\n",
        "      prem_tokenized_sentences.append(prem_tokens)\n",
        "    self.hy_tokenized_data=pad_sequences(hy_tokenized_sentences,maxlen=self.max_len)\n",
        "    self.prem_tokenized_data=pad_sequences(prem_tokenized_sentences,maxlen=self.max_len)\n",
        "    return self.hy_tokenized_data,self.prem_tokenized_data\n",
        "\n",
        "  def attention_mask_and_padding(self):\n",
        "    hy_attention_mask,prem_attention_mask=[],[]\n",
        "    for hy_tokens,prem_tokens in zip(self.hy_tokenized_data,self.prem_tokenized_data):\n",
        "      hy_masks=[1 if i>0 else 0 for i in hy_tokens]\n",
        "      prem_masks=[1 if i>0 else 0 for i in prem_tokens]\n",
        "      hy_attention_mask.append(hy_masks)\n",
        "      prem_attention_mask.append(prem_masks)\n",
        "\n",
        "    return hy_attention_mask,prem_attention_mask\n",
        "        "
      ],
      "execution_count": null,
      "outputs": []
    },
    {
      "cell_type": "code",
      "metadata": {
        "id": "STIRDIH19oWS"
      },
      "source": [
        "bert_eng_data=Bert_Engine(128,True,tokenizer)"
      ],
      "execution_count": null,
      "outputs": []
    },
    {
      "cell_type": "code",
      "metadata": {
        "id": "tMTdxeYnxja7"
      },
      "source": [
        "hy_bert_data,prem_bert_data=Bert_Engine.tokenization_and_padding(bert_eng_data,sentences,prem_sentences)\n",
        "hy_attention_masks,prem_attention_masks=Bert_Engine.attention_mask_and_padding(bert_eng_data)\n"
      ],
      "execution_count": null,
      "outputs": []
    },
    {
      "cell_type": "code",
      "metadata": {
        "colab": {
          "base_uri": "https://localhost:8080/",
          "height": 225,
          "referenced_widgets": [
            "1a477c617346468fb8928ab2f9502403",
            "74d33beffb084d8b93ed76ae99963463",
            "ef9816f41022474d89e796e5bf177fdc",
            "8617ef74e8a6470c8d7af90c306d5cf7",
            "9613c2bc92f944d4afef04f4635b15f5",
            "52c2123f094a48f6a5a9f1ae7e19b2be",
            "c427cda872e9419c8c579a43479a72df",
            "47c3a531250c49cbb68a5283c09ed828",
            "4f4d935b79b944f9be5dc5c5e6a89bd9",
            "66ac10ee610642b4ad17994df879617f",
            "1db12195837144b59fba69af23666883",
            "d6aa78a28a6343afa082d49d626233ad",
            "df6666c576ba4590a8bed16fdf4245de",
            "31274a48e6e24a1589312d1483cfd46c",
            "a40ec6f6cca44b4a900c323afc8667d4",
            "084692b66a3c4f2d9890982944f1dc8f"
          ]
        },
        "id": "YlQKgR-tDemU",
        "outputId": "512e01a0-0aa0-4994-814c-3291bbf86b15"
      },
      "source": [
        "#bert model\n",
        "\n",
        "bert_layer=TFBertModel.from_pretrained('bert-base-multilingual-cased')\n"
      ],
      "execution_count": null,
      "outputs": [
        {
          "output_type": "display_data",
          "data": {
            "application/vnd.jupyter.widget-view+json": {
              "model_id": "1a477c617346468fb8928ab2f9502403",
              "version_minor": 0,
              "version_major": 2
            },
            "text/plain": [
              "HBox(children=(FloatProgress(value=0.0, description='Downloading', max=625.0, style=ProgressStyle(description_…"
            ]
          },
          "metadata": {
            "tags": []
          }
        },
        {
          "output_type": "stream",
          "text": [
            "\n"
          ],
          "name": "stdout"
        },
        {
          "output_type": "display_data",
          "data": {
            "application/vnd.jupyter.widget-view+json": {
              "model_id": "4f4d935b79b944f9be5dc5c5e6a89bd9",
              "version_minor": 0,
              "version_major": 2
            },
            "text/plain": [
              "HBox(children=(FloatProgress(value=0.0, description='Downloading', max=1083389348.0, style=ProgressStyle(descr…"
            ]
          },
          "metadata": {
            "tags": []
          }
        },
        {
          "output_type": "stream",
          "text": [
            "\n"
          ],
          "name": "stdout"
        },
        {
          "output_type": "stream",
          "text": [
            "Some layers from the model checkpoint at bert-base-multilingual-cased were not used when initializing TFBertModel: ['nsp___cls', 'mlm___cls']\n",
            "- This IS expected if you are initializing TFBertModel from the checkpoint of a model trained on another task or with another architecture (e.g. initializing a BertForSequenceClassification model from a BertForPreTraining model).\n",
            "- This IS NOT expected if you are initializing TFBertModel from the checkpoint of a model that you expect to be exactly identical (initializing a BertForSequenceClassification model from a BertForSequenceClassification model).\n",
            "All the layers of TFBertModel were initialized from the model checkpoint at bert-base-multilingual-cased.\n",
            "If your task is similar to the task the model of the checkpoint was trained on, you can already use TFBertModel for predictions without further training.\n"
          ],
          "name": "stderr"
        }
      ]
    },
    {
      "cell_type": "code",
      "metadata": {
        "colab": {
          "base_uri": "https://localhost:8080/"
        },
        "id": "ZBKrU84qYYBF",
        "outputId": "ff54c97d-dd42-4134-a099-85bf47cf43bf"
      },
      "source": [
        "np.array(hy_bert_data).shape,np.array(hy_attention_masks).shape"
      ],
      "execution_count": null,
      "outputs": [
        {
          "output_type": "execute_result",
          "data": {
            "text/plain": [
              "((12120, 128), (12120, 128))"
            ]
          },
          "metadata": {
            "tags": []
          },
          "execution_count": 24
        }
      ]
    },
    {
      "cell_type": "code",
      "metadata": {
        "colab": {
          "base_uri": "https://localhost:8080/"
        },
        "id": "FpZE8FD9tijZ",
        "outputId": "a503eaf4-3f4b-449f-e40f-0f19fada878c"
      },
      "source": [
        "a=bert_layer(hy_bert_data[:3])[0]\n",
        "a[:,0]"
      ],
      "execution_count": null,
      "outputs": [
        {
          "output_type": "execute_result",
          "data": {
            "text/plain": [
              "<tf.Tensor: shape=(3, 768), dtype=float32, numpy=\n",
              "array([[-0.02316505, -0.07282426,  0.20971467, ...,  0.25082386,\n",
              "         0.3252756 ,  0.00301654],\n",
              "       [ 0.03306587, -0.05607904,  0.23421305, ...,  0.18016726,\n",
              "         0.335474  ,  0.04074974],\n",
              "       [ 0.05850943,  0.01458559,  0.1452428 , ...,  0.1478333 ,\n",
              "         0.22643188, -0.07473897]], dtype=float32)>"
            ]
          },
          "metadata": {
            "tags": []
          },
          "execution_count": 25
        }
      ]
    },
    {
      "cell_type": "code",
      "metadata": {
        "colab": {
          "base_uri": "https://localhost:8080/"
        },
        "id": "mWmkXuB1Y1df",
        "outputId": "c987c4b2-d34a-480a-870b-34d366cc1fe5"
      },
      "source": [
        "import tensorflow as tf\n",
        "a=bert_layer(hy_bert_data[:5])[0]\n",
        "a[:,0,:]"
      ],
      "execution_count": null,
      "outputs": [
        {
          "output_type": "execute_result",
          "data": {
            "text/plain": [
              "<tf.Tensor: shape=(5, 768), dtype=float32, numpy=\n",
              "array([[-0.02316505, -0.07282426,  0.20971467, ...,  0.25082386,\n",
              "         0.3252756 ,  0.00301654],\n",
              "       [ 0.03306587, -0.05607904,  0.23421305, ...,  0.18016726,\n",
              "         0.335474  ,  0.04074974],\n",
              "       [ 0.05850943,  0.01458559,  0.1452428 , ...,  0.1478333 ,\n",
              "         0.22643188, -0.07473897],\n",
              "       [-0.12675221, -0.04522049,  0.19922665, ...,  0.31033954,\n",
              "         0.02512328,  0.03426644],\n",
              "       [-0.07085975,  0.05138292,  0.00073937, ...,  0.11728048,\n",
              "         0.02560398, -0.07689637]], dtype=float32)>"
            ]
          },
          "metadata": {
            "tags": []
          },
          "execution_count": 26
        }
      ]
    },
    {
      "cell_type": "code",
      "metadata": {
        "colab": {
          "base_uri": "https://localhost:8080/",
          "height": 194
        },
        "id": "Q7Xum9PUqASg",
        "outputId": "eb4aadf3-ae09-4064-bff3-37a4eb240f63"
      },
      "source": [
        "df.head()"
      ],
      "execution_count": null,
      "outputs": [
        {
          "output_type": "execute_result",
          "data": {
            "text/html": [
              "<div>\n",
              "<style scoped>\n",
              "    .dataframe tbody tr th:only-of-type {\n",
              "        vertical-align: middle;\n",
              "    }\n",
              "\n",
              "    .dataframe tbody tr th {\n",
              "        vertical-align: top;\n",
              "    }\n",
              "\n",
              "    .dataframe thead th {\n",
              "        text-align: right;\n",
              "    }\n",
              "</style>\n",
              "<table border=\"1\" class=\"dataframe\">\n",
              "  <thead>\n",
              "    <tr style=\"text-align: right;\">\n",
              "      <th></th>\n",
              "      <th>id</th>\n",
              "      <th>premise</th>\n",
              "      <th>hypothesis</th>\n",
              "      <th>lang_abv</th>\n",
              "      <th>language</th>\n",
              "      <th>label</th>\n",
              "    </tr>\n",
              "  </thead>\n",
              "  <tbody>\n",
              "    <tr>\n",
              "      <th>0</th>\n",
              "      <td>5130fd2cb5</td>\n",
              "      <td>and these comments were considered in formulat...</td>\n",
              "      <td>The rules developed in the interim were put to...</td>\n",
              "      <td>en</td>\n",
              "      <td>English</td>\n",
              "      <td>0</td>\n",
              "    </tr>\n",
              "    <tr>\n",
              "      <th>1</th>\n",
              "      <td>5b72532a0b</td>\n",
              "      <td>These are issues that we wrestle with in pract...</td>\n",
              "      <td>Practice groups are not permitted to work on t...</td>\n",
              "      <td>en</td>\n",
              "      <td>English</td>\n",
              "      <td>2</td>\n",
              "    </tr>\n",
              "    <tr>\n",
              "      <th>2</th>\n",
              "      <td>3931fbe82a</td>\n",
              "      <td>Des petites choses comme celles-là font une di...</td>\n",
              "      <td>J'essayais d'accomplir quelque chose.</td>\n",
              "      <td>fr</td>\n",
              "      <td>French</td>\n",
              "      <td>0</td>\n",
              "    </tr>\n",
              "    <tr>\n",
              "      <th>3</th>\n",
              "      <td>5622f0c60b</td>\n",
              "      <td>you know they can't really defend themselves l...</td>\n",
              "      <td>They can't defend themselves because of their ...</td>\n",
              "      <td>en</td>\n",
              "      <td>English</td>\n",
              "      <td>0</td>\n",
              "    </tr>\n",
              "    <tr>\n",
              "      <th>4</th>\n",
              "      <td>86aaa48b45</td>\n",
              "      <td>ในการเล่นบทบาทสมมุติก็เช่นกัน โอกาสที่จะได้แสด...</td>\n",
              "      <td>เด็กสามารถเห็นได้ว่าชาติพันธุ์แตกต่างกันอย่างไร</td>\n",
              "      <td>th</td>\n",
              "      <td>Thai</td>\n",
              "      <td>1</td>\n",
              "    </tr>\n",
              "  </tbody>\n",
              "</table>\n",
              "</div>"
            ],
            "text/plain": [
              "           id  ... label\n",
              "0  5130fd2cb5  ...     0\n",
              "1  5b72532a0b  ...     2\n",
              "2  3931fbe82a  ...     0\n",
              "3  5622f0c60b  ...     0\n",
              "4  86aaa48b45  ...     1\n",
              "\n",
              "[5 rows x 6 columns]"
            ]
          },
          "metadata": {
            "tags": []
          },
          "execution_count": 27
        }
      ]
    },
    {
      "cell_type": "code",
      "metadata": {
        "id": "Axk6T9GC03Ng"
      },
      "source": [
        "import tensorflow as tf"
      ],
      "execution_count": null,
      "outputs": []
    },
    {
      "cell_type": "code",
      "metadata": {
        "id": "PzAzx-xoR0Cr"
      },
      "source": [
        "for layer in bert_layer.layers:\n",
        "  layer.trainable=False"
      ],
      "execution_count": null,
      "outputs": []
    },
    {
      "cell_type": "code",
      "metadata": {
        "id": "H6BtE2E_XcEQ"
      },
      "source": [
        "# model development\n",
        "class Custom_Model_1(tf.keras.Model):\n",
        "  def __init__(self,units,training):\n",
        "    super(Custom_Model_1,self).__init__()\n",
        "    self.units=units\n",
        "    self.training=training\n",
        "    self.dense_1=tf.keras.layers.Dense(self.units,activation='relu',trainable=self.training,name='dense_layer_1')\n",
        "    self.bert1=bert_layer\n",
        "  def call(self,input):\n",
        "    embedding1=self.bert1(input)[0]\n",
        "    cls1=embedding1[:,0,:]\n",
        "    x=self.dense_1(cls1)\n",
        "    \n",
        "    return x\n"
      ],
      "execution_count": null,
      "outputs": []
    },
    {
      "cell_type": "code",
      "metadata": {
        "id": "gDAYaSn0XoNM"
      },
      "source": [
        "class Custom_Model_2(tf.keras.Model):\n",
        "  def __init__(self,units,training):\n",
        "    super(Custom_Model_2,self).__init__()\n",
        "    self.units=units\n",
        "    self.training=training\n",
        "    self.dense_2=tf.keras.layers.Dense(self.units,activation='relu',trainable=self.training,name='dense_layer_11')\n",
        "    self.bert2=bert_layer\n",
        "\n",
        "  def call(self,input):\n",
        "    embedding2=self.bert2(input)[0]\n",
        "    cls2=embedding2[:,0,:]\n",
        "    x=self.dense_2(cls2)\n",
        "    \n",
        "    return x"
      ],
      "execution_count": null,
      "outputs": []
    },
    {
      "cell_type": "code",
      "metadata": {
        "id": "v-d7RLsq1B1j"
      },
      "source": [
        "class Siamese_Model(tf.keras.Model):\n",
        "    def __init__(self,units,training):\n",
        "      super(Siamese_Model,self).__init__()\n",
        "      self.units=units\n",
        "      self.training=training\n",
        "      self.out1=Custom_Model_1(self.units,self.training)\n",
        "      self.out2=Custom_Model_2(self.units,self.training)\n",
        "      self.dropout=tf.keras.layers.Dropout(0.2)\n",
        "      self.dense_s=tf.keras.layers.Dense(256,activation='relu',trainable=self.training,name='dense_layer_s')\n",
        "      self.dense=tf.keras.layers.Dense(3,activation='softmax',trainable=self.training,name='output_layer')\n",
        "\n",
        "    def call(self,hy_input_data,prem_input_data):\n",
        "      inp1=self.out1(hy_input_data)\n",
        "      inp2=self.out2(prem_input_data)\n",
        "      concat=tf.keras.layers.concatenate([inp1,inp2])\n",
        "      x=self.dense_s(concat)\n",
        "      x=self.dropout(x)\n",
        "      x=self.dense(x)\n",
        "      \n",
        "      return x\n",
        "\n"
      ],
      "execution_count": null,
      "outputs": []
    },
    {
      "cell_type": "code",
      "metadata": {
        "id": "QzcummAlN_71"
      },
      "source": [
        "hy_inputs_ids,hy_attention_masks,prem_inputs_ids,prem_attention_masks = np.array(hy_bert_data), np.array(hy_attention_masks), np.array(prem_bert_data), np.array(prem_attention_masks)\n",
        "\n"
      ],
      "execution_count": null,
      "outputs": []
    },
    {
      "cell_type": "code",
      "metadata": {
        "colab": {
          "base_uri": "https://localhost:8080/",
          "height": 194
        },
        "id": "jH4yAHtBb0OZ",
        "outputId": "52e953cd-046f-4d45-d934-69ff42c25520"
      },
      "source": [
        "df.head()"
      ],
      "execution_count": null,
      "outputs": [
        {
          "output_type": "execute_result",
          "data": {
            "text/html": [
              "<div>\n",
              "<style scoped>\n",
              "    .dataframe tbody tr th:only-of-type {\n",
              "        vertical-align: middle;\n",
              "    }\n",
              "\n",
              "    .dataframe tbody tr th {\n",
              "        vertical-align: top;\n",
              "    }\n",
              "\n",
              "    .dataframe thead th {\n",
              "        text-align: right;\n",
              "    }\n",
              "</style>\n",
              "<table border=\"1\" class=\"dataframe\">\n",
              "  <thead>\n",
              "    <tr style=\"text-align: right;\">\n",
              "      <th></th>\n",
              "      <th>id</th>\n",
              "      <th>premise</th>\n",
              "      <th>hypothesis</th>\n",
              "      <th>lang_abv</th>\n",
              "      <th>language</th>\n",
              "      <th>label</th>\n",
              "    </tr>\n",
              "  </thead>\n",
              "  <tbody>\n",
              "    <tr>\n",
              "      <th>0</th>\n",
              "      <td>5130fd2cb5</td>\n",
              "      <td>and these comments were considered in formulat...</td>\n",
              "      <td>The rules developed in the interim were put to...</td>\n",
              "      <td>en</td>\n",
              "      <td>English</td>\n",
              "      <td>0</td>\n",
              "    </tr>\n",
              "    <tr>\n",
              "      <th>1</th>\n",
              "      <td>5b72532a0b</td>\n",
              "      <td>These are issues that we wrestle with in pract...</td>\n",
              "      <td>Practice groups are not permitted to work on t...</td>\n",
              "      <td>en</td>\n",
              "      <td>English</td>\n",
              "      <td>2</td>\n",
              "    </tr>\n",
              "    <tr>\n",
              "      <th>2</th>\n",
              "      <td>3931fbe82a</td>\n",
              "      <td>Des petites choses comme celles-là font une di...</td>\n",
              "      <td>J'essayais d'accomplir quelque chose.</td>\n",
              "      <td>fr</td>\n",
              "      <td>French</td>\n",
              "      <td>0</td>\n",
              "    </tr>\n",
              "    <tr>\n",
              "      <th>3</th>\n",
              "      <td>5622f0c60b</td>\n",
              "      <td>you know they can't really defend themselves l...</td>\n",
              "      <td>They can't defend themselves because of their ...</td>\n",
              "      <td>en</td>\n",
              "      <td>English</td>\n",
              "      <td>0</td>\n",
              "    </tr>\n",
              "    <tr>\n",
              "      <th>4</th>\n",
              "      <td>86aaa48b45</td>\n",
              "      <td>ในการเล่นบทบาทสมมุติก็เช่นกัน โอกาสที่จะได้แสด...</td>\n",
              "      <td>เด็กสามารถเห็นได้ว่าชาติพันธุ์แตกต่างกันอย่างไร</td>\n",
              "      <td>th</td>\n",
              "      <td>Thai</td>\n",
              "      <td>1</td>\n",
              "    </tr>\n",
              "  </tbody>\n",
              "</table>\n",
              "</div>"
            ],
            "text/plain": [
              "           id  ... label\n",
              "0  5130fd2cb5  ...     0\n",
              "1  5b72532a0b  ...     2\n",
              "2  3931fbe82a  ...     0\n",
              "3  5622f0c60b  ...     0\n",
              "4  86aaa48b45  ...     1\n",
              "\n",
              "[5 rows x 6 columns]"
            ]
          },
          "metadata": {
            "tags": []
          },
          "execution_count": 34
        }
      ]
    },
    {
      "cell_type": "code",
      "metadata": {
        "id": "32bYdbFtNpUo"
      },
      "source": [
        "model=Siamese_Model(256,True)\n",
        "# f_log=model(hy_inputs_ids[:10],hy_attention_masks[:10],prem_inputs_ids[:10],prem_attention_masks[:10])  #simple un-trained logits"
      ],
      "execution_count": null,
      "outputs": []
    },
    {
      "cell_type": "code",
      "metadata": {
        "id": "EGHVVV448oLV"
      },
      "source": [
        "# model.summary()"
      ],
      "execution_count": null,
      "outputs": []
    },
    {
      "cell_type": "code",
      "metadata": {
        "id": "R7OQ_uCinqwP"
      },
      "source": [
        "loss_fn=tf.keras.losses.CategoricalCrossentropy()\n",
        "epoch_accuracy=tf.keras.metrics.CategoricalAccuracy()\n",
        "optimizer=tf.keras.optimizers.SGD()\n",
        "epoch_loss_avg = tf.keras.metrics.Mean()"
      ],
      "execution_count": null,
      "outputs": []
    },
    {
      "cell_type": "code",
      "metadata": {
        "id": "_GpRO_D4JN1r"
      },
      "source": [
        "# batch_data=len(hy_inputs_ids)//32\n",
        "# batch_data"
      ],
      "execution_count": null,
      "outputs": []
    },
    {
      "cell_type": "code",
      "metadata": {
        "id": "K86Pnw434e3U"
      },
      "source": [
        "# tf.config.run_functions_eagerly(True)"
      ],
      "execution_count": null,
      "outputs": []
    },
    {
      "cell_type": "code",
      "metadata": {
        "id": "RpGa_ayh6AdV"
      },
      "source": [
        "# tf.data \n",
        "# AUTO = tf.data.experimental.AUTOTUNE\n",
        "# hy_inputs_ids, hy_attention_masks, prem_inputs_ids, prem_attention_masks, label_data = tf.convert_to_tensor(hy_inputs_ids), tf.convert_to_tensor(hy_attention_masks), tf.convert_to_tensor(prem_inputs_ids), tf.convert_to_tensor(prem_attention_masks), tf.convert_to_tensor(label_data)\n",
        "# hy_data=tf.data.Dataset.from_tensor_slices(((hy_inputs_ids,hy_attention_masks),label_data)).batch(32,drop_remainder=True).prefetch(AUTO)\n",
        "# prem_data=tf.data.Dataset.from_tensor_slices(((prem_inputs_ids,prem_attention_masks),label_data)).batch(32,drop_remainder=True).prefetch(AUTO)"
      ],
      "execution_count": null,
      "outputs": []
    },
    {
      "cell_type": "code",
      "metadata": {
        "colab": {
          "base_uri": "https://localhost:8080/"
        },
        "id": "67kb4NMvCRuT",
        "outputId": "29777749-bfdf-4331-ef01-4e40bc19ab2c"
      },
      "source": [
        "list(hy_data.as_numpy_iterator())[:1]"
      ],
      "execution_count": null,
      "outputs": [
        {
          "output_type": "execute_result",
          "data": {
            "text/plain": [
              "[((array([[    0,     0,     0, ..., 23123,   119,   102],\n",
              "          [    0,     0,     0, ..., 12415,   119,   102],\n",
              "          [    0,     0,     0, ..., 14131,   119,   102],\n",
              "          ...,\n",
              "          [    0,     0,     0, ..., 19353,   119,   102],\n",
              "          [    0,     0,     0, ..., 28388,   119,   102],\n",
              "          [    0,     0,     0, ..., 13784,   119,   102]], dtype=int32),\n",
              "   array([[0, 0, 0, ..., 1, 1, 1],\n",
              "          [0, 0, 0, ..., 1, 1, 1],\n",
              "          [0, 0, 0, ..., 1, 1, 1],\n",
              "          ...,\n",
              "          [0, 0, 0, ..., 1, 1, 1],\n",
              "          [0, 0, 0, ..., 1, 1, 1],\n",
              "          [0, 0, 0, ..., 1, 1, 1]])),\n",
              "  array([[1., 0., 0.],\n",
              "         [0., 0., 1.],\n",
              "         [1., 0., 0.],\n",
              "         [1., 0., 0.],\n",
              "         [0., 1., 0.],\n",
              "         [1., 0., 0.],\n",
              "         [1., 0., 0.],\n",
              "         [0., 0., 1.],\n",
              "         [0., 1., 0.],\n",
              "         [1., 0., 0.],\n",
              "         [1., 0., 0.],\n",
              "         [0., 1., 0.],\n",
              "         [1., 0., 0.],\n",
              "         [0., 0., 1.],\n",
              "         [0., 0., 1.],\n",
              "         [1., 0., 0.],\n",
              "         [0., 1., 0.],\n",
              "         [1., 0., 0.],\n",
              "         [0., 1., 0.],\n",
              "         [0., 0., 1.],\n",
              "         [0., 0., 1.],\n",
              "         [1., 0., 0.],\n",
              "         [0., 1., 0.],\n",
              "         [0., 0., 1.],\n",
              "         [0., 1., 0.],\n",
              "         [0., 0., 1.],\n",
              "         [1., 0., 0.],\n",
              "         [1., 0., 0.],\n",
              "         [1., 0., 0.],\n",
              "         [0., 0., 1.],\n",
              "         [0., 0., 1.],\n",
              "         [1., 0., 0.]], dtype=float32))]"
            ]
          },
          "metadata": {
            "tags": []
          },
          "execution_count": 41
        }
      ]
    },
    {
      "cell_type": "code",
      "metadata": {
        "id": "sgEtc6ZUG2B-"
      },
      "source": [
        "# for ((xh,yh),(xp,yp)) in zip(hy_data.take(2),prem_data.take(2)):\n",
        "#   print(xh,xp)\n",
        "  "
      ],
      "execution_count": null,
      "outputs": []
    },
    {
      "cell_type": "code",
      "metadata": {
        "id": "rK-IoZbuMv8k"
      },
      "source": [
        "@tf.function\n",
        "def custom_train(epochs, hy_data, prem_data):\n",
        "  train_loss,train_accuracy=[],[]\n",
        "  \n",
        "  for epoch in range(1,epochs+1):\n",
        "    # batch_data=len(hy_inputs_ids)//batches\n",
        "    for i,((xh,yh),(xp,yp)) in enumerate(zip(hy_data,prem_data)):\n",
        "      with tf.GradientTape() as tape:\n",
        "        logits=model(xh,xp)\n",
        "        loss_val=loss_fn(yh,logits)\n",
        "      grad=tape.gradient(loss_val,model.trainable_weights)\n",
        "      optimizer.apply_gradients(zip(grad,model.trainable_weights))\n",
        "\n",
        "      tf.print('loss value after batch :', i)\n",
        "      tf.print(loss_val)\n",
        "      epoch_accuracy.update_state(yh,logits)\n",
        "      epoch_loss_avg.update_state(loss_val)\n",
        "      i+=1\n",
        "\n",
        "    train_loss.append(epoch_loss_avg.result())\n",
        "    train_accuracy.append(epoch_accuracy.result())\n",
        "\n",
        "    # if epoch%5==0:\n",
        "    print('\\n')\n",
        "    tf.print(\"for epoch : \", epoch)\n",
        "    tf.print(\"training loss:\", epoch_loss_avg.result())\n",
        "    tf.print(\"training accuracy\", epoch_accuracy.result())\n",
        "    print('\\n')\n",
        "\n",
        "\n",
        "\n",
        "\n",
        "\n",
        "\n"
      ],
      "execution_count": null,
      "outputs": []
    },
    {
      "cell_type": "code",
      "metadata": {
        "colab": {
          "base_uri": "https://localhost:8080/"
        },
        "id": "vsJ3JWy30cwZ",
        "outputId": "7fbce924-391e-4955-8d46-bd8194cc0355"
      },
      "source": [
        "custom_train(10,hy_data,prem_data)\n"
      ],
      "execution_count": null,
      "outputs": [
        {
          "output_type": "stream",
          "text": [
            "WARNING:tensorflow:The parameters `output_attentions`, `output_hidden_states` and `use_cache` cannot be updated when calling a model.They have to be set to True/False in the config object (i.e.: `config=XConfig.from_pretrained('name', output_attentions=True)`).\n",
            "WARNING:tensorflow:AutoGraph could not transform <bound method Socket.send of <zmq.sugar.socket.Socket object at 0x7f57a1400ec0>> and will run it as-is.\n",
            "Please report this to the TensorFlow team. When filing the bug, set the verbosity to 10 (on Linux, `export AUTOGRAPH_VERBOSITY=10`) and attach the full output.\n",
            "Cause: module, class, method, function, traceback, frame, or code object was expected, got cython_function_or_method\n",
            "To silence this warning, decorate the function with @tf.autograph.experimental.do_not_convert\n",
            "WARNING: AutoGraph could not transform <bound method Socket.send of <zmq.sugar.socket.Socket object at 0x7f57a1400ec0>> and will run it as-is.\n",
            "Please report this to the TensorFlow team. When filing the bug, set the verbosity to 10 (on Linux, `export AUTOGRAPH_VERBOSITY=10`) and attach the full output.\n",
            "Cause: module, class, method, function, traceback, frame, or code object was expected, got cython_function_or_method\n",
            "To silence this warning, decorate the function with @tf.autograph.experimental.do_not_convert\n",
            "WARNING:tensorflow:AutoGraph could not transform <function wrap at 0x7f57bccb3c20> and will run it as-is.\n",
            "Cause: while/else statement not yet supported\n",
            "To silence this warning, decorate the function with @tf.autograph.experimental.do_not_convert\n",
            "WARNING: AutoGraph could not transform <function wrap at 0x7f57bccb3c20> and will run it as-is.\n",
            "Cause: while/else statement not yet supported\n",
            "To silence this warning, decorate the function with @tf.autograph.experimental.do_not_convert\n",
            "WARNING:tensorflow:The parameter `return_dict` cannot be set in graph mode and will always be set to `True`.\n",
            "WARNING:tensorflow:The parameters `output_attentions`, `output_hidden_states` and `use_cache` cannot be updated when calling a model.They have to be set to True/False in the config object (i.e.: `config=XConfig.from_pretrained('name', output_attentions=True)`).\n",
            "WARNING:tensorflow:The parameter `return_dict` cannot be set in graph mode and will always be set to `True`.\n",
            "\n",
            "\n",
            "\n",
            "\n",
            "WARNING:tensorflow:The parameters `output_attentions`, `output_hidden_states` and `use_cache` cannot be updated when calling a model.They have to be set to True/False in the config object (i.e.: `config=XConfig.from_pretrained('name', output_attentions=True)`).\n",
            "WARNING:tensorflow:The parameter `return_dict` cannot be set in graph mode and will always be set to `True`.\n",
            "WARNING:tensorflow:The parameters `output_attentions`, `output_hidden_states` and `use_cache` cannot be updated when calling a model.They have to be set to True/False in the config object (i.e.: `config=XConfig.from_pretrained('name', output_attentions=True)`).\n",
            "WARNING:tensorflow:The parameter `return_dict` cannot be set in graph mode and will always be set to `True`.\n",
            "\n",
            "\n",
            "\n",
            "\n",
            "WARNING:tensorflow:The parameters `output_attentions`, `output_hidden_states` and `use_cache` cannot be updated when calling a model.They have to be set to True/False in the config object (i.e.: `config=XConfig.from_pretrained('name', output_attentions=True)`).\n",
            "WARNING:tensorflow:The parameter `return_dict` cannot be set in graph mode and will always be set to `True`.\n",
            "WARNING:tensorflow:The parameters `output_attentions`, `output_hidden_states` and `use_cache` cannot be updated when calling a model.They have to be set to True/False in the config object (i.e.: `config=XConfig.from_pretrained('name', output_attentions=True)`).\n",
            "WARNING:tensorflow:The parameter `return_dict` cannot be set in graph mode and will always be set to `True`.\n",
            "\n",
            "\n",
            "\n",
            "\n",
            "WARNING:tensorflow:The parameters `output_attentions`, `output_hidden_states` and `use_cache` cannot be updated when calling a model.They have to be set to True/False in the config object (i.e.: `config=XConfig.from_pretrained('name', output_attentions=True)`).\n",
            "WARNING:tensorflow:The parameter `return_dict` cannot be set in graph mode and will always be set to `True`.\n",
            "WARNING:tensorflow:The parameters `output_attentions`, `output_hidden_states` and `use_cache` cannot be updated when calling a model.They have to be set to True/False in the config object (i.e.: `config=XConfig.from_pretrained('name', output_attentions=True)`).\n",
            "WARNING:tensorflow:The parameter `return_dict` cannot be set in graph mode and will always be set to `True`.\n",
            "\n",
            "\n",
            "\n",
            "\n",
            "WARNING:tensorflow:The parameters `output_attentions`, `output_hidden_states` and `use_cache` cannot be updated when calling a model.They have to be set to True/False in the config object (i.e.: `config=XConfig.from_pretrained('name', output_attentions=True)`).\n",
            "WARNING:tensorflow:The parameter `return_dict` cannot be set in graph mode and will always be set to `True`.\n",
            "WARNING:tensorflow:The parameters `output_attentions`, `output_hidden_states` and `use_cache` cannot be updated when calling a model.They have to be set to True/False in the config object (i.e.: `config=XConfig.from_pretrained('name', output_attentions=True)`).\n",
            "WARNING:tensorflow:The parameter `return_dict` cannot be set in graph mode and will always be set to `True`.\n",
            "\n",
            "\n",
            "\n",
            "\n",
            "WARNING:tensorflow:The parameters `output_attentions`, `output_hidden_states` and `use_cache` cannot be updated when calling a model.They have to be set to True/False in the config object (i.e.: `config=XConfig.from_pretrained('name', output_attentions=True)`).\n",
            "WARNING:tensorflow:The parameter `return_dict` cannot be set in graph mode and will always be set to `True`.\n",
            "WARNING:tensorflow:The parameters `output_attentions`, `output_hidden_states` and `use_cache` cannot be updated when calling a model.They have to be set to True/False in the config object (i.e.: `config=XConfig.from_pretrained('name', output_attentions=True)`).\n",
            "WARNING:tensorflow:The parameter `return_dict` cannot be set in graph mode and will always be set to `True`.\n",
            "\n",
            "\n",
            "\n",
            "\n",
            "WARNING:tensorflow:The parameters `output_attentions`, `output_hidden_states` and `use_cache` cannot be updated when calling a model.They have to be set to True/False in the config object (i.e.: `config=XConfig.from_pretrained('name', output_attentions=True)`).\n",
            "WARNING:tensorflow:The parameter `return_dict` cannot be set in graph mode and will always be set to `True`.\n",
            "WARNING:tensorflow:The parameters `output_attentions`, `output_hidden_states` and `use_cache` cannot be updated when calling a model.They have to be set to True/False in the config object (i.e.: `config=XConfig.from_pretrained('name', output_attentions=True)`).\n",
            "WARNING:tensorflow:The parameter `return_dict` cannot be set in graph mode and will always be set to `True`.\n",
            "\n",
            "\n",
            "\n",
            "\n",
            "WARNING:tensorflow:The parameters `output_attentions`, `output_hidden_states` and `use_cache` cannot be updated when calling a model.They have to be set to True/False in the config object (i.e.: `config=XConfig.from_pretrained('name', output_attentions=True)`).\n",
            "WARNING:tensorflow:The parameter `return_dict` cannot be set in graph mode and will always be set to `True`.\n",
            "WARNING:tensorflow:The parameters `output_attentions`, `output_hidden_states` and `use_cache` cannot be updated when calling a model.They have to be set to True/False in the config object (i.e.: `config=XConfig.from_pretrained('name', output_attentions=True)`).\n",
            "WARNING:tensorflow:The parameter `return_dict` cannot be set in graph mode and will always be set to `True`.\n",
            "\n",
            "\n",
            "\n",
            "\n",
            "WARNING:tensorflow:The parameters `output_attentions`, `output_hidden_states` and `use_cache` cannot be updated when calling a model.They have to be set to True/False in the config object (i.e.: `config=XConfig.from_pretrained('name', output_attentions=True)`).\n",
            "WARNING:tensorflow:The parameter `return_dict` cannot be set in graph mode and will always be set to `True`.\n",
            "WARNING:tensorflow:The parameters `output_attentions`, `output_hidden_states` and `use_cache` cannot be updated when calling a model.They have to be set to True/False in the config object (i.e.: `config=XConfig.from_pretrained('name', output_attentions=True)`).\n",
            "WARNING:tensorflow:The parameter `return_dict` cannot be set in graph mode and will always be set to `True`.\n",
            "\n",
            "\n",
            "\n",
            "\n",
            "WARNING:tensorflow:The parameters `output_attentions`, `output_hidden_states` and `use_cache` cannot be updated when calling a model.They have to be set to True/False in the config object (i.e.: `config=XConfig.from_pretrained('name', output_attentions=True)`).\n",
            "WARNING:tensorflow:The parameter `return_dict` cannot be set in graph mode and will always be set to `True`.\n",
            "WARNING:tensorflow:The parameters `output_attentions`, `output_hidden_states` and `use_cache` cannot be updated when calling a model.They have to be set to True/False in the config object (i.e.: `config=XConfig.from_pretrained('name', output_attentions=True)`).\n",
            "WARNING:tensorflow:The parameter `return_dict` cannot be set in graph mode and will always be set to `True`.\n",
            "\n",
            "\n",
            "\n",
            "\n",
            "WARNING:tensorflow:The parameters `output_attentions`, `output_hidden_states` and `use_cache` cannot be updated when calling a model.They have to be set to True/False in the config object (i.e.: `config=XConfig.from_pretrained('name', output_attentions=True)`).\n",
            "WARNING:tensorflow:The parameter `return_dict` cannot be set in graph mode and will always be set to `True`.\n",
            "WARNING:tensorflow:The parameters `output_attentions`, `output_hidden_states` and `use_cache` cannot be updated when calling a model.They have to be set to True/False in the config object (i.e.: `config=XConfig.from_pretrained('name', output_attentions=True)`).\n",
            "WARNING:tensorflow:The parameter `return_dict` cannot be set in graph mode and will always be set to `True`.\n",
            "\n",
            "\n",
            "\n",
            "\n",
            "WARNING:tensorflow:The parameters `output_attentions`, `output_hidden_states` and `use_cache` cannot be updated when calling a model.They have to be set to True/False in the config object (i.e.: `config=XConfig.from_pretrained('name', output_attentions=True)`).\n",
            "WARNING:tensorflow:The parameter `return_dict` cannot be set in graph mode and will always be set to `True`.\n",
            "WARNING:tensorflow:The parameters `output_attentions`, `output_hidden_states` and `use_cache` cannot be updated when calling a model.They have to be set to True/False in the config object (i.e.: `config=XConfig.from_pretrained('name', output_attentions=True)`).\n",
            "WARNING:tensorflow:The parameter `return_dict` cannot be set in graph mode and will always be set to `True`.\n",
            "\n",
            "\n",
            "\n",
            "\n",
            "WARNING:tensorflow:The parameters `output_attentions`, `output_hidden_states` and `use_cache` cannot be updated when calling a model.They have to be set to True/False in the config object (i.e.: `config=XConfig.from_pretrained('name', output_attentions=True)`).\n",
            "WARNING:tensorflow:The parameter `return_dict` cannot be set in graph mode and will always be set to `True`.\n",
            "WARNING:tensorflow:The parameters `output_attentions`, `output_hidden_states` and `use_cache` cannot be updated when calling a model.They have to be set to True/False in the config object (i.e.: `config=XConfig.from_pretrained('name', output_attentions=True)`).\n",
            "WARNING:tensorflow:The parameter `return_dict` cannot be set in graph mode and will always be set to `True`.\n",
            "\n",
            "\n",
            "\n",
            "\n",
            "WARNING:tensorflow:The parameters `output_attentions`, `output_hidden_states` and `use_cache` cannot be updated when calling a model.They have to be set to True/False in the config object (i.e.: `config=XConfig.from_pretrained('name', output_attentions=True)`).\n",
            "WARNING:tensorflow:The parameter `return_dict` cannot be set in graph mode and will always be set to `True`.\n",
            "WARNING:tensorflow:The parameters `output_attentions`, `output_hidden_states` and `use_cache` cannot be updated when calling a model.They have to be set to True/False in the config object (i.e.: `config=XConfig.from_pretrained('name', output_attentions=True)`).\n",
            "WARNING:tensorflow:The parameter `return_dict` cannot be set in graph mode and will always be set to `True`.\n",
            "\n",
            "\n",
            "\n",
            "\n",
            "WARNING:tensorflow:The parameters `output_attentions`, `output_hidden_states` and `use_cache` cannot be updated when calling a model.They have to be set to True/False in the config object (i.e.: `config=XConfig.from_pretrained('name', output_attentions=True)`).\n",
            "WARNING:tensorflow:The parameter `return_dict` cannot be set in graph mode and will always be set to `True`.\n",
            "WARNING:tensorflow:The parameters `output_attentions`, `output_hidden_states` and `use_cache` cannot be updated when calling a model.They have to be set to True/False in the config object (i.e.: `config=XConfig.from_pretrained('name', output_attentions=True)`).\n",
            "WARNING:tensorflow:The parameter `return_dict` cannot be set in graph mode and will always be set to `True`.\n",
            "\n",
            "\n",
            "\n",
            "\n",
            "WARNING:tensorflow:The parameters `output_attentions`, `output_hidden_states` and `use_cache` cannot be updated when calling a model.They have to be set to True/False in the config object (i.e.: `config=XConfig.from_pretrained('name', output_attentions=True)`).\n",
            "WARNING:tensorflow:The parameter `return_dict` cannot be set in graph mode and will always be set to `True`.\n",
            "WARNING:tensorflow:The parameters `output_attentions`, `output_hidden_states` and `use_cache` cannot be updated when calling a model.They have to be set to True/False in the config object (i.e.: `config=XConfig.from_pretrained('name', output_attentions=True)`).\n",
            "WARNING:tensorflow:The parameter `return_dict` cannot be set in graph mode and will always be set to `True`.\n",
            "\n",
            "\n",
            "\n",
            "\n",
            "WARNING:tensorflow:The parameters `output_attentions`, `output_hidden_states` and `use_cache` cannot be updated when calling a model.They have to be set to True/False in the config object (i.e.: `config=XConfig.from_pretrained('name', output_attentions=True)`).\n",
            "WARNING:tensorflow:The parameter `return_dict` cannot be set in graph mode and will always be set to `True`.\n",
            "WARNING:tensorflow:The parameters `output_attentions`, `output_hidden_states` and `use_cache` cannot be updated when calling a model.They have to be set to True/False in the config object (i.e.: `config=XConfig.from_pretrained('name', output_attentions=True)`).\n",
            "WARNING:tensorflow:The parameter `return_dict` cannot be set in graph mode and will always be set to `True`.\n",
            "\n",
            "\n",
            "\n",
            "\n",
            "WARNING:tensorflow:The parameters `output_attentions`, `output_hidden_states` and `use_cache` cannot be updated when calling a model.They have to be set to True/False in the config object (i.e.: `config=XConfig.from_pretrained('name', output_attentions=True)`).\n",
            "WARNING:tensorflow:The parameter `return_dict` cannot be set in graph mode and will always be set to `True`.\n",
            "WARNING:tensorflow:The parameters `output_attentions`, `output_hidden_states` and `use_cache` cannot be updated when calling a model.They have to be set to True/False in the config object (i.e.: `config=XConfig.from_pretrained('name', output_attentions=True)`).\n",
            "WARNING:tensorflow:The parameter `return_dict` cannot be set in graph mode and will always be set to `True`.\n",
            "\n",
            "\n",
            "\n",
            "\n",
            "WARNING:tensorflow:The parameters `output_attentions`, `output_hidden_states` and `use_cache` cannot be updated when calling a model.They have to be set to True/False in the config object (i.e.: `config=XConfig.from_pretrained('name', output_attentions=True)`).\n",
            "WARNING:tensorflow:The parameter `return_dict` cannot be set in graph mode and will always be set to `True`.\n",
            "WARNING:tensorflow:The parameters `output_attentions`, `output_hidden_states` and `use_cache` cannot be updated when calling a model.They have to be set to True/False in the config object (i.e.: `config=XConfig.from_pretrained('name', output_attentions=True)`).\n",
            "WARNING:tensorflow:The parameter `return_dict` cannot be set in graph mode and will always be set to `True`.\n",
            "\n",
            "\n",
            "\n",
            "\n",
            "WARNING:tensorflow:The parameters `output_attentions`, `output_hidden_states` and `use_cache` cannot be updated when calling a model.They have to be set to True/False in the config object (i.e.: `config=XConfig.from_pretrained('name', output_attentions=True)`).\n",
            "WARNING:tensorflow:The parameter `return_dict` cannot be set in graph mode and will always be set to `True`.\n",
            "WARNING:tensorflow:The parameters `output_attentions`, `output_hidden_states` and `use_cache` cannot be updated when calling a model.They have to be set to True/False in the config object (i.e.: `config=XConfig.from_pretrained('name', output_attentions=True)`).\n",
            "WARNING:tensorflow:The parameter `return_dict` cannot be set in graph mode and will always be set to `True`.\n",
            "\n",
            "\n",
            "\n",
            "\n",
            "for epoch :  1\n",
            "loss value after batch : 0\n",
            "1.06863821\n",
            "loss value after batch : 1\n",
            "1.06649101\n",
            "loss value after batch : 2\n",
            "1.06373596\n",
            "loss value after batch : 3\n",
            "1.14834547\n",
            "loss value after batch : 4\n",
            "1.10370302\n",
            "loss value after batch : 5\n",
            "1.06912959\n",
            "loss value after batch : 6\n",
            "1.13191545\n",
            "loss value after batch : 7\n",
            "1.10978031\n",
            "loss value after batch : 8\n",
            "1.17711842\n",
            "loss value after batch : 9\n",
            "1.09587717\n",
            "loss value after batch : 10\n",
            "1.0922904\n",
            "loss value after batch : 11\n",
            "1.06607616\n",
            "loss value after batch : 12\n",
            "1.14779425\n",
            "loss value after batch : 13\n",
            "1.12211037\n",
            "loss value after batch : 14\n",
            "1.15381324\n",
            "loss value after batch : 15\n",
            "1.0983454\n",
            "loss value after batch : 16\n",
            "1.10673666\n",
            "loss value after batch : 17\n",
            "1.09401762\n",
            "loss value after batch : 18\n",
            "1.15434194\n",
            "loss value after batch : 19\n",
            "1.10805035\n",
            "loss value after batch : 20\n",
            "1.108513\n",
            "loss value after batch : 21\n",
            "1.12584209\n",
            "loss value after batch : 22\n",
            "1.11196709\n",
            "loss value after batch : 23\n",
            "1.11512232\n",
            "loss value after batch : 24\n",
            "1.11293721\n",
            "loss value after batch : 25\n",
            "1.09609079\n",
            "loss value after batch : 26\n",
            "1.13807106\n",
            "loss value after batch : 27\n",
            "1.12237\n",
            "loss value after batch : 28\n",
            "1.13984823\n",
            "loss value after batch : 29\n",
            "1.17443657\n",
            "loss value after batch : 30\n",
            "1.1388998\n",
            "loss value after batch : 31\n",
            "1.19374824\n",
            "loss value after batch : 32\n",
            "1.10893023\n",
            "loss value after batch : 33\n",
            "1.04119158\n",
            "loss value after batch : 34\n",
            "1.08181953\n",
            "loss value after batch : 35\n",
            "1.1341455\n",
            "loss value after batch : 36\n",
            "1.0723772\n",
            "loss value after batch : 37\n",
            "1.08583462\n",
            "loss value after batch : 38\n",
            "1.12835526\n",
            "loss value after batch : 39\n",
            "1.10100758\n",
            "loss value after batch : 40\n",
            "1.14415789\n",
            "loss value after batch : 41\n",
            "1.11126614\n",
            "loss value after batch : 42\n",
            "1.12394977\n",
            "loss value after batch : 43\n",
            "1.06982243\n",
            "loss value after batch : 44\n",
            "1.10019135\n",
            "loss value after batch : 45\n",
            "1.11371851\n",
            "loss value after batch : 46\n",
            "1.0427599\n",
            "loss value after batch : 47\n",
            "1.1190294\n",
            "loss value after batch : 48\n",
            "1.06124616\n",
            "loss value after batch : 49\n",
            "1.08741367\n",
            "loss value after batch : 50\n",
            "1.15855229\n",
            "loss value after batch : 51\n",
            "1.10869634\n",
            "loss value after batch : 52\n",
            "1.09796572\n",
            "loss value after batch : 53\n",
            "1.10353398\n",
            "loss value after batch : 54\n",
            "1.07273984\n",
            "loss value after batch : 55\n",
            "1.1619513\n",
            "loss value after batch : 56\n",
            "1.10227489\n",
            "loss value after batch : 57\n",
            "1.16202664\n",
            "loss value after batch : 58\n",
            "1.09589171\n",
            "loss value after batch : 59\n",
            "1.09910858\n",
            "loss value after batch : 60\n",
            "1.09423697\n",
            "loss value after batch : 61\n",
            "1.07254362\n",
            "loss value after batch : 62\n",
            "1.101758\n",
            "loss value after batch : 63\n",
            "1.12083745\n",
            "loss value after batch : 64\n",
            "1.1055274\n",
            "loss value after batch : 65\n",
            "1.11201298\n",
            "loss value after batch : 66\n",
            "1.11184466\n",
            "loss value after batch : 67\n",
            "1.10421562\n",
            "loss value after batch : 68\n",
            "1.15773749\n",
            "loss value after batch : 69\n",
            "1.08658147\n",
            "loss value after batch : 70\n",
            "1.14791512\n",
            "loss value after batch : 71\n",
            "1.14632869\n",
            "loss value after batch : 72\n",
            "1.09546208\n",
            "loss value after batch : 73\n",
            "1.11193383\n",
            "loss value after batch : 74\n",
            "1.07504272\n",
            "loss value after batch : 75\n",
            "1.10921526\n",
            "loss value after batch : 76\n",
            "1.13072515\n",
            "loss value after batch : 77\n",
            "1.14684069\n",
            "loss value after batch : 78\n",
            "1.10383415\n",
            "loss value after batch : 79\n",
            "1.05883956\n",
            "loss value after batch : 80\n",
            "1.12107551\n",
            "loss value after batch : 81\n",
            "1.08664083\n",
            "loss value after batch : 82\n",
            "1.07260633\n",
            "loss value after batch : 83\n",
            "1.11582351\n",
            "loss value after batch : 84\n",
            "1.10246992\n",
            "loss value after batch : 85\n",
            "1.10525179\n",
            "loss value after batch : 86\n",
            "1.12067723\n",
            "loss value after batch : 87\n",
            "1.06061459\n",
            "loss value after batch : 88\n",
            "1.09467161\n",
            "loss value after batch : 89\n",
            "1.05978179\n",
            "loss value after batch : 90\n",
            "1.10773242\n",
            "loss value after batch : 91\n",
            "1.16234112\n",
            "loss value after batch : 92\n",
            "1.04053\n",
            "loss value after batch : 93\n",
            "1.10410333\n",
            "loss value after batch : 94\n",
            "1.09345365\n",
            "loss value after batch : 95\n",
            "1.12996936\n",
            "loss value after batch : 96\n",
            "1.10975826\n",
            "loss value after batch : 97\n",
            "1.06549048\n",
            "loss value after batch : 98\n",
            "1.04786837\n",
            "loss value after batch : 99\n",
            "1.18145084\n",
            "loss value after batch : 100\n",
            "1.10980022\n",
            "loss value after batch : 101\n",
            "1.15946209\n",
            "loss value after batch : 102\n",
            "1.05621982\n",
            "loss value after batch : 103\n",
            "1.14075887\n",
            "loss value after batch : 104\n",
            "1.06907344\n",
            "loss value after batch : 105\n",
            "1.10503185\n",
            "loss value after batch : 106\n",
            "1.10226619\n",
            "loss value after batch : 107\n",
            "1.0982157\n",
            "loss value after batch : 108\n",
            "1.11058736\n",
            "loss value after batch : 109\n",
            "1.11967432\n",
            "loss value after batch : 110\n",
            "1.12341332\n",
            "loss value after batch : 111\n",
            "1.07152247\n",
            "loss value after batch : 112\n",
            "1.08835268\n",
            "loss value after batch : 113\n",
            "1.10546398\n",
            "loss value after batch : 114\n",
            "1.12460828\n",
            "loss value after batch : 115\n",
            "1.07627177\n",
            "loss value after batch : 116\n",
            "1.08410954\n",
            "loss value after batch : 117\n",
            "1.11200857\n",
            "loss value after batch : 118\n",
            "1.08408809\n",
            "loss value after batch : 119\n",
            "1.15259576\n",
            "loss value after batch : 120\n",
            "1.10175121\n",
            "loss value after batch : 121\n",
            "1.10412705\n",
            "loss value after batch : 122\n",
            "1.11090207\n",
            "loss value after batch : 123\n",
            "1.11586392\n",
            "loss value after batch : 124\n",
            "1.10420895\n",
            "loss value after batch : 125\n",
            "1.08716893\n",
            "loss value after batch : 126\n",
            "1.10650492\n",
            "loss value after batch : 127\n",
            "1.11333013\n",
            "loss value after batch : 128\n",
            "1.03528595\n",
            "loss value after batch : 129\n",
            "1.13841343\n",
            "loss value after batch : 130\n",
            "1.09609067\n",
            "loss value after batch : 131\n",
            "1.15007615\n",
            "loss value after batch : 132\n",
            "1.10426378\n",
            "loss value after batch : 133\n",
            "1.08415639\n",
            "loss value after batch : 134\n",
            "1.1167984\n",
            "loss value after batch : 135\n",
            "1.14305627\n",
            "loss value after batch : 136\n",
            "1.12669539\n",
            "loss value after batch : 137\n",
            "1.09155917\n",
            "loss value after batch : 138\n",
            "1.1071322\n",
            "loss value after batch : 139\n",
            "1.08418059\n",
            "loss value after batch : 140\n",
            "1.12590313\n",
            "loss value after batch : 141\n",
            "1.0648489\n",
            "loss value after batch : 142\n",
            "1.08071327\n",
            "loss value after batch : 143\n",
            "1.1302824\n",
            "loss value after batch : 144\n",
            "1.11445332\n",
            "loss value after batch : 145\n",
            "1.0727545\n",
            "loss value after batch : 146\n",
            "1.14465117\n",
            "loss value after batch : 147\n",
            "1.09688044\n",
            "loss value after batch : 148\n",
            "1.11308193\n",
            "loss value after batch : 149\n",
            "1.14201128\n",
            "loss value after batch : 150\n",
            "1.12152314\n",
            "loss value after batch : 151\n",
            "1.09305882\n",
            "loss value after batch : 152\n",
            "1.07300544\n",
            "loss value after batch : 153\n",
            "1.15112782\n",
            "loss value after batch : 154\n",
            "1.10351217\n",
            "loss value after batch : 155\n",
            "1.11861873\n",
            "loss value after batch : 156\n",
            "1.10246062\n",
            "loss value after batch : 157\n",
            "1.07648516\n",
            "loss value after batch : 158\n",
            "1.11780429\n",
            "loss value after batch : 159\n",
            "1.10463512\n",
            "loss value after batch : 160\n",
            "1.11881232\n",
            "loss value after batch : 161\n",
            "1.14186525\n",
            "loss value after batch : 162\n",
            "1.10205233\n",
            "loss value after batch : 163\n",
            "1.14158869\n",
            "loss value after batch : 164\n",
            "1.13084507\n",
            "loss value after batch : 165\n",
            "1.13089991\n",
            "loss value after batch : 166\n",
            "1.12411666\n",
            "loss value after batch : 167\n",
            "1.10169327\n",
            "loss value after batch : 168\n",
            "1.0639689\n",
            "loss value after batch : 169\n",
            "1.17728388\n",
            "loss value after batch : 170\n",
            "1.09188485\n",
            "loss value after batch : 171\n",
            "1.07822371\n",
            "loss value after batch : 172\n",
            "1.10920835\n",
            "loss value after batch : 173\n",
            "1.09125376\n",
            "loss value after batch : 174\n",
            "1.08624434\n",
            "loss value after batch : 175\n",
            "1.10057521\n",
            "loss value after batch : 176\n",
            "1.09056056\n",
            "loss value after batch : 177\n",
            "1.09961545\n",
            "loss value after batch : 178\n",
            "1.07921469\n",
            "loss value after batch : 179\n",
            "1.08745098\n",
            "loss value after batch : 180\n",
            "1.10988188\n",
            "loss value after batch : 181\n",
            "1.07827699\n",
            "loss value after batch : 182\n",
            "1.10771286\n",
            "loss value after batch : 183\n",
            "1.14075446\n",
            "loss value after batch : 184\n",
            "1.0900377\n",
            "loss value after batch : 185\n",
            "1.08066869\n",
            "loss value after batch : 186\n",
            "1.04726779\n",
            "loss value after batch : 187\n",
            "1.11494851\n",
            "loss value after batch : 188\n",
            "1.07823873\n",
            "loss value after batch : 189\n",
            "1.08407676\n",
            "loss value after batch : 190\n",
            "1.07489264\n",
            "loss value after batch : 191\n",
            "1.12435281\n",
            "loss value after batch : 192\n",
            "1.16198957\n",
            "loss value after batch : 193\n",
            "1.08902073\n",
            "loss value after batch : 194\n",
            "1.07140398\n",
            "loss value after batch : 195\n",
            "1.06141114\n",
            "loss value after batch : 196\n",
            "1.09949696\n",
            "loss value after batch : 197\n",
            "1.069381\n",
            "loss value after batch : 198\n",
            "1.13176775\n",
            "loss value after batch : 199\n",
            "1.11073375\n",
            "loss value after batch : 200\n",
            "1.13029194\n",
            "loss value after batch : 201\n",
            "1.14325762\n",
            "loss value after batch : 202\n",
            "1.11605096\n",
            "loss value after batch : 203\n",
            "1.07807517\n",
            "loss value after batch : 204\n",
            "1.1195215\n",
            "loss value after batch : 205\n",
            "1.11490154\n",
            "loss value after batch : 206\n",
            "1.12129569\n",
            "loss value after batch : 207\n",
            "1.08899319\n",
            "loss value after batch : 208\n",
            "1.07218647\n",
            "loss value after batch : 209\n",
            "1.0929544\n",
            "loss value after batch : 210\n",
            "1.07547832\n",
            "loss value after batch : 211\n",
            "1.04963303\n",
            "loss value after batch : 212\n",
            "1.08898544\n",
            "loss value after batch : 213\n",
            "1.09951961\n",
            "loss value after batch : 214\n",
            "1.1324811\n",
            "loss value after batch : 215\n",
            "1.12288761\n",
            "loss value after batch : 216\n",
            "1.13256478\n",
            "loss value after batch : 217\n",
            "1.1201328\n",
            "loss value after batch : 218\n",
            "1.11763608\n",
            "loss value after batch : 219\n",
            "1.0878787\n",
            "loss value after batch : 220\n",
            "1.09155905\n",
            "loss value after batch : 221\n",
            "1.06859159\n",
            "loss value after batch : 222\n",
            "1.11046958\n",
            "loss value after batch : 223\n",
            "1.13144684\n",
            "loss value after batch : 224\n",
            "1.05204439\n",
            "loss value after batch : 225\n",
            "1.08122718\n",
            "loss value after batch : 226\n",
            "1.1179601\n",
            "loss value after batch : 227\n",
            "1.10550117\n",
            "loss value after batch : 228\n",
            "1.08494532\n",
            "loss value after batch : 229\n",
            "1.12725341\n",
            "loss value after batch : 230\n",
            "1.10047603\n",
            "loss value after batch : 231\n",
            "1.10205364\n",
            "loss value after batch : 232\n",
            "1.09072423\n",
            "loss value after batch : 233\n",
            "1.10961628\n",
            "loss value after batch : 234\n",
            "1.10693431\n",
            "loss value after batch : 235\n",
            "1.09969831\n",
            "loss value after batch : 236\n",
            "1.08128\n",
            "loss value after batch : 237\n",
            "1.08877468\n",
            "loss value after batch : 238\n",
            "1.12282848\n",
            "loss value after batch : 239\n",
            "1.1476686\n",
            "loss value after batch : 240\n",
            "1.0914309\n",
            "loss value after batch : 241\n",
            "1.11620283\n",
            "loss value after batch : 242\n",
            "1.08777022\n",
            "loss value after batch : 243\n",
            "1.15694809\n",
            "loss value after batch : 244\n",
            "1.1170938\n",
            "loss value after batch : 245\n",
            "1.0608418\n",
            "loss value after batch : 246\n",
            "1.06789756\n",
            "loss value after batch : 247\n",
            "1.08699536\n",
            "loss value after batch : 248\n",
            "1.14528894\n",
            "loss value after batch : 249\n",
            "1.05931616\n",
            "loss value after batch : 250\n",
            "1.11072457\n",
            "loss value after batch : 251\n",
            "1.09230387\n",
            "loss value after batch : 252\n",
            "1.18882442\n",
            "loss value after batch : 253\n",
            "1.08628416\n",
            "loss value after batch : 254\n",
            "1.11812186\n",
            "loss value after batch : 255\n",
            "1.17099869\n",
            "loss value after batch : 256\n",
            "1.04930484\n",
            "loss value after batch : 257\n",
            "1.09538507\n",
            "loss value after batch : 258\n",
            "1.10490704\n",
            "loss value after batch : 259\n",
            "1.06921911\n",
            "loss value after batch : 260\n",
            "1.08565712\n",
            "loss value after batch : 261\n",
            "1.11359286\n",
            "loss value after batch : 262\n",
            "1.14679956\n",
            "loss value after batch : 263\n",
            "1.100052\n",
            "loss value after batch : 264\n",
            "1.11092734\n",
            "loss value after batch : 265\n",
            "1.11939216\n",
            "loss value after batch : 266\n",
            "1.13969696\n",
            "loss value after batch : 267\n",
            "1.08150268\n",
            "loss value after batch : 268\n",
            "1.05793142\n",
            "loss value after batch : 269\n",
            "1.07542276\n",
            "loss value after batch : 270\n",
            "1.07826543\n",
            "loss value after batch : 271\n",
            "1.11459267\n",
            "loss value after batch : 272\n",
            "1.07765007\n",
            "loss value after batch : 273\n",
            "1.10583162\n",
            "loss value after batch : 274\n",
            "1.09442747\n",
            "loss value after batch : 275\n",
            "1.11777377\n",
            "loss value after batch : 276\n",
            "1.12710547\n",
            "loss value after batch : 277\n",
            "1.07149291\n",
            "loss value after batch : 278\n",
            "1.08887434\n",
            "loss value after batch : 279\n",
            "1.08823133\n",
            "loss value after batch : 280\n",
            "1.08617496\n",
            "loss value after batch : 281\n",
            "1.03776014\n",
            "loss value after batch : 282\n",
            "1.10906982\n",
            "loss value after batch : 283\n",
            "1.11220384\n",
            "loss value after batch : 284\n",
            "1.14373803\n",
            "loss value after batch : 285\n",
            "1.11084557\n",
            "loss value after batch : 286\n",
            "1.07749164\n",
            "loss value after batch : 287\n",
            "1.06736696\n",
            "loss value after batch : 288\n",
            "1.08427525\n",
            "loss value after batch : 289\n",
            "1.08467221\n",
            "loss value after batch : 290\n",
            "1.07925034\n",
            "loss value after batch : 291\n",
            "1.11457741\n",
            "loss value after batch : 292\n",
            "1.11652589\n",
            "loss value after batch : 293\n",
            "1.07601357\n",
            "loss value after batch : 294\n",
            "1.05431676\n",
            "loss value after batch : 295\n",
            "1.07143319\n",
            "loss value after batch : 296\n",
            "1.07949018\n",
            "loss value after batch : 297\n",
            "1.09384346\n",
            "loss value after batch : 298\n",
            "1.07804513\n",
            "loss value after batch : 299\n",
            "1.10680318\n",
            "loss value after batch : 300\n",
            "1.1031599\n",
            "loss value after batch : 301\n",
            "1.11437464\n",
            "loss value after batch : 302\n",
            "1.10473323\n",
            "loss value after batch : 303\n",
            "1.07845664\n",
            "loss value after batch : 304\n",
            "1.10123682\n",
            "loss value after batch : 305\n",
            "1.08699226\n",
            "loss value after batch : 306\n",
            "1.12802756\n",
            "loss value after batch : 307\n",
            "1.10378385\n",
            "loss value after batch : 308\n",
            "1.07985187\n",
            "loss value after batch : 309\n",
            "1.07347143\n",
            "loss value after batch : 310\n",
            "1.09858561\n",
            "loss value after batch : 311\n",
            "1.09074283\n",
            "loss value after batch : 312\n",
            "1.07912731\n",
            "loss value after batch : 313\n",
            "1.0502584\n",
            "loss value after batch : 314\n",
            "1.11207521\n",
            "loss value after batch : 315\n",
            "1.11878777\n",
            "loss value after batch : 316\n",
            "1.0698123\n",
            "loss value after batch : 317\n",
            "1.08420396\n",
            "loss value after batch : 318\n",
            "1.08332086\n",
            "loss value after batch : 319\n",
            "1.10023\n",
            "loss value after batch : 320\n",
            "1.18043232\n",
            "loss value after batch : 321\n",
            "1.06092739\n",
            "loss value after batch : 322\n",
            "1.0871675\n",
            "loss value after batch : 323\n",
            "1.08050013\n",
            "loss value after batch : 324\n",
            "1.07596707\n",
            "loss value after batch : 325\n",
            "1.09071851\n",
            "loss value after batch : 326\n",
            "1.09958959\n",
            "loss value after batch : 327\n",
            "1.09325933\n",
            "loss value after batch : 328\n"
          ],
          "name": "stdout"
        }
      ]
    },
    {
      "cell_type": "code",
      "metadata": {
        "id": "WTSlDJ-0ArXS"
      },
      "source": [
        ""
      ],
      "execution_count": null,
      "outputs": []
    }
  ]
}